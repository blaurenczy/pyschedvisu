{
 "cells": [
  {
   "cell_type": "code",
   "execution_count": null,
   "metadata": {},
   "outputs": [],
   "source": [
    "import logging\n",
    "import pydicom\n",
    "import os\n",
    "\n",
    "logger = logging.getLogger()\n",
    "logger.setLevel(logging.INFO)"
   ]
  },
  {
   "cell_type": "code",
   "execution_count": null,
   "metadata": {},
   "outputs": [],
   "source": [
    "root_folder = 'PACS_data'\n",
    "month_folders = os.listdir(root_folder)\n",
    "for month_folder in month_folders:\n",
    "    month_folder_path = root_folder + '/' + month_folder\n",
    "    day_folders = os.listdir(month_folder_path)\n",
    "    for day_folder in day_folders:\n",
    "        day_folder_path = root_folder + '/' + month_folder + '/' + day_folder\n",
    "        DICOM_files = os.listdir(day_folder_path)\n",
    "        for i_file in range(len(DICOM_files)):\n",
    "            DICOM_file_path = day_folder_path + '/' + DICOM_files[i_file]\n",
    "            try:\n",
    "                d = pydicom.dcmread(DICOM_file_path)\n",
    "                #print(f'Read DICOM file at {DICOM_file_path}.')\n",
    "            except:\n",
    "                logging.error(f'Error reading DICOM file at {DICOM_file_path}.')\n",
    "            "
   ]
  },
  {
   "cell_type": "code",
   "execution_count": null,
   "metadata": {},
   "outputs": [],
   "source": [
    "d"
   ]
  },
  {
   "cell_type": "code",
   "execution_count": null,
   "metadata": {},
   "outputs": [],
   "source": []
  }
 ],
 "metadata": {
  "kernelspec": {
   "display_name": ".venv",
   "language": "python",
   "name": ".venv"
  },
  "language_info": {
   "codemirror_mode": {
    "name": "ipython",
    "version": 3
   },
   "file_extension": ".py",
   "mimetype": "text/x-python",
   "name": "python",
   "nbconvert_exporter": "python",
   "pygments_lexer": "ipython3",
   "version": "3.6.8"
  }
 },
 "nbformat": 4,
 "nbformat_minor": 2
}
