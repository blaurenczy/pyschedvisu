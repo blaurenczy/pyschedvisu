{
 "cells": [
  {
   "cell_type": "code",
   "execution_count": null,
   "metadata": {},
   "outputs": [],
   "source": [
    "from pynetdicom import AE\n",
    "from pynetdicom.sop_class import PatientRootQueryRetrieveInformationModelFind\n",
    "from pydicom.dataset import Dataset\n",
    "import logging"
   ]
  },
  {
   "cell_type": "code",
   "execution_count": null,
   "metadata": {},
   "outputs": [],
   "source": [
    "dcmtk_folder = 'dcmtk-3.6.0-win32-i386\\bin\\';\n",
    "output_file = 'log.txt';\n",
    "\n",
    "dcmaet = 'CIVILISTENUC';\n",
    "%dcmaec = 'algoFIR';\n",
    "dcmaec = 'csps1FIR';\n",
    "dcmaem = 'CIVILISTENUC';\n",
    "dcmhost = '155.105.3.105';\n",
    "%dcmhost = '155.105.54.78';\n",
    "dcmport = '104';\n",
    "incoming_port = '104';\n",
    "\n",
    "opcommand1 = [dcmtk_folder,'movescu.exe -aet ',dcmaet,' -aec ',dcmaec,' -aem ',dcmaem,' -od ', output_folder_path];\n",
    "opcommand2 = [' -v -P -k QueryRetrieveLevel=IMAGE -k Modality=',modality,' -k StudyDate=',date];\n",
    "opcommand3 = [' -k InstanceNumber=',instanceNumber,' -k SeriesInstanceUID=',seriesInstanceUID,' -k ModalitiesInStudy=',modalitiesInStudies];\n",
    "opcommand4 = [' ',dcmhost,' ',dcmport,' --port ',incoming_port];"
   ]
  },
  {
   "cell_type": "code",
   "execution_count": null,
   "metadata": {},
   "outputs": [],
   "source": [
    "ae_tile = b'CIVILISTENUC'\n",
    "ae_called_title = b'csps1FIR';\n",
    "host = '155.105.3.105'\n",
    "port = 104\n",
    "\n",
    "ae = AE(ae_title=ae_tile)\n",
    "ae.add_requested_context(PatientRootQueryRetrieveInformationModelFind)\n",
    "\n",
    "# Create our Identifier (query) dataset\n",
    "ds = Dataset()\n",
    "ds.StudyDate = '20180622'\n",
    "ds.PatientID = '2718821'\n",
    "ds.QueryRetrieveLevel = 'PATIENT'\n",
    "\n",
    "# Associate with peer AE\n",
    "assoc = ae.associate(host, port, ae_title=ae_called_title)\n",
    "\n",
    "if assoc.is_established:\n",
    "    # Use the C-FIND service to send the identifier\n",
    "    responses = assoc.send_c_find(ds, PatientRootQueryRetrieveInformationModelFind)\n",
    "\n",
    "    for (status, identifier) in responses:\n",
    "        if status:\n",
    "            print('C-FIND query status: 0x{0:04x}'.format(status.Status))\n",
    "\n",
    "            # If the status is 'Pending' then identifier is the C-FIND response\n",
    "            if status.Status in (0xFF00, 0xFF01):\n",
    "                print(identifier)\n",
    "        else:\n",
    "            print('Connection timed out, was aborted or received invalid response')\n",
    "\n",
    "     # Release the association\n",
    "    assoc.release()\n",
    "else:\n",
    "    print('Association rejected, aborted or never connected')"
   ]
  },
  {
   "cell_type": "code",
   "execution_count": null,
   "metadata": {},
   "outputs": [],
   "source": [
    "assoc"
   ]
  },
  {
   "cell_type": "code",
   "execution_count": null,
   "metadata": {},
   "outputs": [],
   "source": [
    "assoc.requestor.primitive"
   ]
  },
  {
   "cell_type": "code",
   "execution_count": null,
   "metadata": {},
   "outputs": [],
   "source": []
  }
 ],
 "metadata": {
  "kernelspec": {
   "display_name": ".venv",
   "language": "python",
   "name": ".venv"
  },
  "language_info": {
   "codemirror_mode": {
    "name": "ipython",
    "version": 3
   },
   "file_extension": ".py",
   "mimetype": "text/x-python",
   "name": "python",
   "nbconvert_exporter": "python",
   "pygments_lexer": "ipython3",
   "version": "3.6.8"
  }
 },
 "nbformat": 4,
 "nbformat_minor": 2
}
