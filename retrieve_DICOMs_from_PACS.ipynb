{
 "cells": [
  {
   "cell_type": "markdown",
   "metadata": {},
   "source": [
    "Tests for retrieving data from PACS\n",
    "--"
   ]
  },
  {
   "cell_type": "markdown",
   "metadata": {},
   "source": [
    "Imports\n",
    "--"
   ]
  },
  {
   "cell_type": "code",
   "execution_count": null,
   "metadata": {},
   "outputs": [],
   "source": [
    "import logging\n",
    "import configparser\n",
    "from datetime import datetime as dt\n",
    "\n",
    "from IPython.core import display as ICD\n",
    "\n",
    "from pydicom.dataset import Dataset\n",
    "\n",
    "from scripts.run_all import run_all\n",
    "from scripts.retrieve_data_from_PACS import find_data, get_data\n",
    "\n",
    "#from pynetdicom import debug_logger\n",
    "#debug_logger()\n",
    "\n",
    "%load_ext autoreload\n",
    "%reload_ext autoreload\n",
    "%autoreload 2"
   ]
  },
  {
   "cell_type": "markdown",
   "metadata": {},
   "source": [
    "Set the logger of the pynetdicom module to ERROR, to avoid logs"
   ]
  },
  {
   "cell_type": "code",
   "execution_count": null,
   "metadata": {},
   "outputs": [],
   "source": [
    "logging.getLogger('pynetdicom').setLevel(logging.ERROR)"
   ]
  },
  {
   "cell_type": "markdown",
   "metadata": {},
   "source": [
    "Initialize the \"config\" object"
   ]
  },
  {
   "cell_type": "code",
   "execution_count": null,
   "metadata": {
    "scrolled": true
   },
   "outputs": [],
   "source": [
    "config = run_all()\n",
    "#df_study = retrieve_studies(config)\n",
    "#df_study"
   ]
  },
  {
   "cell_type": "markdown",
   "metadata": {},
   "source": [
    "Get (C-MOVE) a CT series first and last frame"
   ]
  },
  {
   "cell_type": "code",
   "execution_count": null,
   "metadata": {},
   "outputs": [],
   "source": [
    "# Create out identifier (query) dataset\n",
    "query_ds = Dataset()\n",
    "query_ds.QueryRetrieveLevel = 'IMAGE'\n",
    "query_ds.SeriesInstanceUID = '1.2.840.113619.2.80.3834766814.478.1569931317.104.4.1'\n",
    "query_ds.StudyInstanceUID = '1.2.826.0.1.3680043.2.146.2.20.2560235.1900228608.0'\n",
    "query_ds.PatientID = '2560235'\n",
    "query_ds.StudyID = '40464'\n",
    "query_ds.StudyDate  = '20191001'\n",
    "query_ds.Modality = 'CT'\n",
    "query_ds.InstanceNumber = ['1', '131']\n",
    "\n",
    "df = get_data(config, query_ds, ['PatientID', 'ManufacturerModelName', 'InstanceNumber', 'StudyTime',\n",
    "                                 'SeriesTime', 'ContentTime', 'AcquisitionTime'])\n",
    "df"
   ]
  },
  {
   "cell_type": "markdown",
   "metadata": {},
   "source": [
    "Get (C-MOVE) a PT series first and last frame"
   ]
  },
  {
   "cell_type": "code",
   "execution_count": null,
   "metadata": {},
   "outputs": [],
   "source": [
    "# Create out identifier (query) dataset\n",
    "query_ds = Dataset()\n",
    "query_ds.QueryRetrieveLevel = 'IMAGE'\n",
    "query_ds.SeriesInstanceUID = '1.3.12.2.1107.5.6.1.2013.31330119100111184984100000023'\n",
    "query_ds.PatientID = '69168'\n",
    "query_ds.StudyDate  = '20191001'\n",
    "query_ds.Modality = 'PT'\n",
    "query_ds.InstanceNumber = ['1', '387']\n",
    "\n",
    "df = get_data(config, query_ds, ['PatientID', 'ManufacturerModelName', 'InstanceNumber', 'StudyTime',\n",
    "                                 'SeriesTime', 'ContentTime', 'AcquisitionTime'])\n",
    "df"
   ]
  },
  {
   "cell_type": "code",
   "execution_count": null,
   "metadata": {},
   "outputs": [],
   "source": [
    "# Create out identifier (query) dataset\n",
    "query_ds = Dataset()\n",
    "query_ds.QueryRetrieveLevel = 'IMAGE'\n",
    "query_ds.SeriesInstanceUID = '1.3.12.2.1107.5.1.4.10001.30000019100107233748400041397'\n",
    "query_ds.PatientID = '1084649'\n",
    "query_ds.StudyDate  = '20191001'\n",
    "query_ds.Modality = 'PT'\n",
    "\n",
    "query_ds.InstanceNumber = ['1', '1000', '2772']\n",
    "\n",
    "df = get_data(config, query_ds, ['PatientID', 'ManufacturerModelName', 'InstanceNumber', 'StudyTime',\n",
    "                                 'SeriesTime', 'ContentTime', 'AcquisitionTime'])\n",
    "df"
   ]
  },
  {
   "cell_type": "markdown",
   "metadata": {},
   "source": [
    "Get all the series corresponding to the query Dataset's filter [date = 2019-10-01, study time = between 8am and 9am]"
   ]
  },
  {
   "cell_type": "code",
   "execution_count": null,
   "metadata": {
    "scrolled": true
   },
   "outputs": [],
   "source": [
    "query_ds = Dataset()\n",
    "\n",
    "# set the filtering parameters\n",
    "query_ds.QueryRetrieveLevel = 'SERIES'\n",
    "query_ds.StudyDate  = '20191001'\n",
    "query_ds.SeriesDate = '20191001'\n",
    "query_ds.StudyTime  = '080000-090000'\n",
    "query_ds.SeriesTime = '080000-090000'\n",
    "\n",
    "# parameters to fetch\n",
    "query_ds.NumberOfSeriesRelatedInstances = ''\n",
    "query_ds.SeriesInstanceUID = ''\n",
    "query_ds.Modality = ''\n",
    "query_ds.PatientID = ''\n",
    "query_ds.StudyID = ''\n",
    "\n",
    "logging.info('Query Dataset:')\n",
    "for s in str(query_ds).split('\\n'): logging.info('    ' + s)\n",
    "\n",
    "df_series_all = find_data(config, query_ds)\n",
    "df_series_all"
   ]
  },
  {
   "cell_type": "markdown",
   "metadata": {},
   "source": [
    "Get a list of Series having more than a few frames"
   ]
  },
  {
   "cell_type": "code",
   "execution_count": null,
   "metadata": {},
   "outputs": [],
   "source": [
    "df_series = df_series_all[df_series_all['Number of Series Related Instances'].astype(int) > 2][0:3]\n",
    "df_series"
   ]
  },
  {
   "cell_type": "markdown",
   "metadata": {},
   "source": [
    "Get time differences by querying the ContentTime on the IMAGE level"
   ]
  },
  {
   "cell_type": "code",
   "execution_count": null,
   "metadata": {},
   "outputs": [],
   "source": [
    "time_format = '%H%M%S'\n",
    "\n",
    "for i in df_series.index:\n",
    "    \n",
    "    series_UID = df_series.loc[i, 'Series Instance UID']\n",
    "    last_frame = df_series.loc[i, 'Number of Series Related Instances']\n",
    "    \n",
    "    logging.info('Fetching info for index {}: \"{}\"'.format(i, series_UID))\n",
    "    \n",
    "    query_ds = Dataset()\n",
    "    query_ds.QueryRetrieveLevel = 'IMAGE'\n",
    "    query_ds.InstanceNumber = ['1', last_frame]\n",
    "    query_ds.SeriesInstanceUID = series_UID\n",
    "    query_ds.ContentTime = ''\n",
    "    \n",
    "    df = retrieve_data(config, query_ds)\n",
    "    \n",
    "    start_time = dt.strptime(df.loc[0, 'Content Time'], time_format)\n",
    "    end_time = dt.strptime(df.loc[1, 'Content Time'], time_format)\n",
    "    delta_sec = (end_time - start_time).seconds\n",
    "\n",
    "    logging.info('Series total time: end [{:%H:%M:%S}] - [{:%H:%M:%S}] = {} seconds'.format(end_time, start_time, delta_sec))"
   ]
  },
  {
   "cell_type": "code",
   "execution_count": null,
   "metadata": {},
   "outputs": [],
   "source": [
    "df_series_pt = \\\n",
    "    df_series_all[\n",
    "        (df_series_all.Modality == 'PT')\n",
    "      & (df_series_all['Number of Series Related Instances'].astype(int) > 1)\n",
    "    ][0:10]\n",
    "ICD.display(df_series_pt)\n",
    "print(df_series_pt.loc[556, 'Series Instance UID'])\n",
    "print(df_series_pt.loc[556, 'Patient ID'])"
   ]
  },
  {
   "cell_type": "code",
   "execution_count": null,
   "metadata": {},
   "outputs": [],
   "source": [
    "time_format = '%H%M%S'\n",
    "\n",
    "for i in df_series_pt.index:\n",
    "    \n",
    "    series_UID = df_series_pt.loc[i, 'Series Instance UID']\n",
    "    last_frame = df_series_pt.loc[i, 'Number of Series Related Instances']\n",
    "    mid_frame = str(int(int(last_frame) / 2))\n",
    "    \n",
    "    logging.info('Fetching info for index {}: \"{}\"'.format(i, series_UID))\n",
    "    \n",
    "    query_ds = Dataset()\n",
    "    query_ds.QueryRetrieveLevel = 'IMAGE'\n",
    "    query_ds.InstanceNumber = ['1', mid_frame, last_frame]\n",
    "    query_ds.SeriesInstanceUID = series_UID\n",
    "    query_ds.StudyTime = ''\n",
    "    query_ds.SeriesTime = ''\n",
    "    query_ds.ContentTime = ''\n",
    "    query_ds.NumberOfSeriesRelatedInstances = ''\n",
    "    \n",
    "    df = retrieve_data(config, query_ds)\n",
    "    if len(df) > 0:\n",
    "        ICD.display(df)"
   ]
  },
  {
   "cell_type": "code",
   "execution_count": null,
   "metadata": {},
   "outputs": [],
   "source": [
    "df.loc[0, 'Content Time'].split('.')[0]"
   ]
  },
  {
   "cell_type": "markdown",
   "metadata": {},
   "source": [
    "Get all PT images with InstanceNumber 1 for a specific day (20191001)"
   ]
  },
  {
   "cell_type": "code",
   "execution_count": null,
   "metadata": {},
   "outputs": [],
   "source": [
    "query_ds = Dataset()\n",
    "\n",
    "# set the filtering parameters\n",
    "query_ds.QueryRetrieveLevel = 'IMAGE'\n",
    "query_ds.StudyDate  = '20191001'\n",
    "query_ds.InstanceNumber = '1'\n",
    "query_ds.Modality = 'PT'\n",
    "\n",
    "# parameters to fetch\n",
    "query_ds.StudyTime = ''\n",
    "query_ds.SeriesTime = ''\n",
    "query_ds.ContentTime = ''\n",
    "query_ds.NumberOfSeriesRelatedInstances = ''\n",
    "query_ds.SeriesInstanceUID = ''\n",
    "\n",
    "logging.info('Query Dataset:')\n",
    "for s in str(query_ds).split('\\n'): logging.info('    ' + s)\n",
    "\n",
    "df_PT_IN1_20191001_all = retrieve_data(config, query_ds)\n",
    "df_PT_IN1_20191001_all"
   ]
  },
  {
   "cell_type": "markdown",
   "metadata": {},
   "source": [
    "Get the content time of the last frame"
   ]
  },
  {
   "cell_type": "code",
   "execution_count": null,
   "metadata": {},
   "outputs": [],
   "source": [
    "df_PT_IN1_20191001_copy = df_PT_IN1_20191001_all.copy()\n",
    "for i in df_PT_IN1_20191001_copy.index:\n",
    "    \n",
    "    series_UID = df_PT_IN1_20191001_copy.loc[i, 'Series Instance UID']\n",
    "    last_frame = df_PT_IN1_20191001_copy.loc[i, 'Number of Series Related Instances']\n",
    "    mid_frame = str(int(int(last_frame) / 2))\n",
    "    \n",
    "    logging.info('Fetching info for index {}: \"{}\"'.format(i, series_UID))\n",
    "    \n",
    "    query_ds = Dataset()\n",
    "    query_ds.QueryRetrieveLevel = 'IMAGE'\n",
    "    query_ds.InstanceNumber = last_frame\n",
    "    query_ds.SeriesInstanceUID = series_UID\n",
    "    query_ds.ContentTime = ''\n",
    "    \n",
    "    df = retrieve_data(config, query_ds)\n",
    "    if len(df) > 0:\n",
    "        df_PT_IN1_20191001_copy.loc[i, 'Last Content Time'] = df.loc[0, 'Content Time']\n",
    "    \n",
    "    query_ds = Dataset()\n",
    "    query_ds.QueryRetrieveLevel = 'IMAGE'\n",
    "    query_ds.InstanceNumber = mid_frame\n",
    "    query_ds.SeriesInstanceUID = series_UID\n",
    "    query_ds.ContentTime = ''\n",
    "    \n",
    "    df = retrieve_data(config, query_ds)\n",
    "    if len(df) > 0:\n",
    "        df_PT_IN1_20191001_copy.loc[i, 'Mid Content Time'] = df.loc[0, 'Content Time']"
   ]
  },
  {
   "cell_type": "code",
   "execution_count": null,
   "metadata": {},
   "outputs": [],
   "source": [
    "df_PT_IN1_20191001_copy[['Content Time', 'Mid Content Time', 'Last Content Time', 'Instance Number', 'Number of Series Related Instances']]"
   ]
  },
  {
   "cell_type": "code",
   "execution_count": null,
   "metadata": {},
   "outputs": [],
   "source": [
    "s = df_PT_IN1_20191001_copy.loc[0:39, 'Content Time'].apply(lambda s: s.split('.')[1]).astype(int)\n",
    "e = df_PT_IN1_20191001_copy.loc[0:39, 'Last Content Time'].apply(lambda s: s.split('.')[1]).astype(int)\n",
    "n = df_PT_IN1_20191001_copy.loc[0:39, 'Number of Series Related Instances'].astype(int)\n",
    "d = e - s\n",
    "import pandas as pd\n",
    "a = pd.DataFrame([s, e, n, d, d/n]).transpose()\n",
    "a.columns = ['s', 'e', 'n', 'd', 'd/n']\n",
    "a[a['n'] > 400]"
   ]
  },
  {
   "cell_type": "markdown",
   "metadata": {},
   "source": [
    "Try to use MOVE instead of FIND"
   ]
  },
  {
   "cell_type": "code",
   "execution_count": null,
   "metadata": {},
   "outputs": [],
   "source": [
    "df_series.loc[0]['Series Instance UID']"
   ]
  },
  {
   "cell_type": "code",
   "execution_count": null,
   "metadata": {},
   "outputs": [],
   "source": [
    "ds = Dataset()\n",
    "ds.QueryRetrieveLevel = 'IMAGE'\n",
    "ds.SeriesInstanceUID = '1.2.840.113619.2.80.3834766814.478.1569931317.104.4.1'\n",
    "ds.StudyInstanceUID = '1.2.826.0.1.3680043.2.146.2.20.2560235.1900228608.0'\n",
    "ds.PatientID = '2560235'\n",
    "ds.StudyID = '40464'\n",
    "ds.StudyDate  = '20191001'\n",
    "ds.Modality = 'CT'\n",
    "ds.InstanceNumber = '1'\n",
    "\n",
    "df = retrieve_data(config, ds)\n",
    "df"
   ]
  },
  {
   "cell_type": "code",
   "execution_count": null,
   "metadata": {},
   "outputs": [],
   "source": [
    "from pydicom.dataset import Dataset\n",
    "\n",
    "from pynetdicom import AE, evt, StoragePresentationContexts\n",
    "from pynetdicom.sop_class import PatientRootQueryRetrieveInformationModelMove\n",
    "\n",
    "datasets = []\n",
    "def handle_store(event):\n",
    "    \"\"\"Handle a C-STORE service request\"\"\"\n",
    "    print('HANDLE STORE')\n",
    "    datasets.append(event.dataset)\n",
    "    # Ignore the request and return Success\n",
    "    return 0x0000\n",
    "\n",
    "handlers = [(evt.EVT_C_STORE, handle_store)]\n",
    "\n",
    "# Initialise the Application Entity\n",
    "ae = AE(ae_title = config['PACS']['ae_title'])\n",
    "\n",
    "# Add a requested presentation context\n",
    "ae.add_requested_context(PatientRootQueryRetrieveInformationModelMove)\n",
    "\n",
    "# Add the Storage SCP's supported presentation contexts\n",
    "ae.supported_contexts = StoragePresentationContexts\n",
    "\n",
    "# Start our Storage SCP in non-blocking mode, listening on port 11120\n",
    "ae.ae_title = config['PACS']['ae_title']\n",
    "scp = ae.start_server((config['PACS']['local_host'], config['PACS'].getint('local_port')), block=False, evt_handlers=handlers)\n",
    "\n",
    "# Create out identifier (query) dataset\n",
    "ds = Dataset()\n",
    "ds.QueryRetrieveLevel = 'IMAGE'\n",
    "ds.SeriesInstanceUID = '1.2.840.113619.2.80.3834766814.478.1569931317.104.4.1'\n",
    "ds.StudyInstanceUID = '1.2.826.0.1.3680043.2.146.2.20.2560235.1900228608.0'\n",
    "ds.PatientID = '2560235'\n",
    "ds.StudyID = '40464'\n",
    "ds.StudyDate  = '20191001'\n",
    "ds.Modality = 'CT'\n",
    "ds.InstanceNumber = ['1', '100', '200', '289', '298', '300']\n",
    "\n",
    "# Associate with peer AE at IP 127.0.0.1 and port 11112\n",
    "assoc = ae.associate(config['PACS']['host'], config['PACS'].getint('port'), ae_title=config['PACS']['ae_called_title'])\n",
    "\n",
    "if assoc.is_established:\n",
    "    # Use the C-MOVE service to send the identifier\n",
    "    responses = assoc.send_c_move(ds, config['PACS']['ae_title'], PatientRootQueryRetrieveInformationModelMove)\n",
    "\n",
    "    for (status, identifier) in responses:\n",
    "        if status:\n",
    "            print('C-MOVE query status: 0x{0:04x}'.format(status.Status))\n",
    "\n",
    "            # If the status is 'Pending' then `identifier` is the C-MOVE response\n",
    "            if status.Status in (0xFF00, 0xFF01):\n",
    "                print(identifier)\n",
    "        else:\n",
    "            print('Connection timed out, was aborted or received invalid response')\n",
    "\n",
    "    # Release the association\n",
    "    assoc.release()\n",
    "else:\n",
    "    print('Association rejected, aborted or never connected')\n",
    "\n",
    "# Stop our Storage SCP\n",
    "scp.shutdown()\n"
   ]
  },
  {
   "cell_type": "code",
   "execution_count": null,
   "metadata": {},
   "outputs": [],
   "source": [
    "[ds.ContentTime for ds in datasets]"
   ]
  },
  {
   "cell_type": "code",
   "execution_count": null,
   "metadata": {},
   "outputs": [],
   "source": [
    "datasets[0].ManufacturerModelName"
   ]
  },
  {
   "cell_type": "code",
   "execution_count": null,
   "metadata": {},
   "outputs": [],
   "source": [
    "# Create out identifier (query) dataset\n",
    "query_ds = Dataset()\n",
    "query_ds.QueryRetrieveLevel = 'IMAGE'\n",
    "query_ds.SeriesInstanceUID = '1.2.840.113619.2.80.3834766814.478.1569931317.104.4.1'\n",
    "query_ds.StudyInstanceUID = '1.2.826.0.1.3680043.2.146.2.20.2560235.1900228608.0'\n",
    "query_ds.PatientID = '2560235'\n",
    "query_ds.StudyID = '40464'\n",
    "query_ds.StudyDate  = '20191001'\n",
    "query_ds.Modality = 'CT'\n",
    "query_ds.InstanceNumber = ['1', '100', '131', '132']\n",
    "\n",
    "df = find_data(config, query_ds)\n",
    "df"
   ]
  },
  {
   "cell_type": "code",
   "execution_count": null,
   "metadata": {},
   "outputs": [],
   "source": []
  }
 ],
 "metadata": {
  "kernelspec": {
   "display_name": "Python 3",
   "language": "python",
   "name": "python3"
  },
  "language_info": {
   "codemirror_mode": {
    "name": "ipython",
    "version": 3
   },
   "file_extension": ".py",
   "mimetype": "text/x-python",
   "name": "python",
   "nbconvert_exporter": "python",
   "pygments_lexer": "ipython3",
   "version": "3.7.4"
  }
 },
 "nbformat": 4,
 "nbformat_minor": 2
}
