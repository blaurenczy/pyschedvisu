{
 "cells": [
  {
   "cell_type": "code",
   "execution_count": null,
   "metadata": {},
   "outputs": [],
   "source": [
    "import logging\n",
    "import pydicom\n",
    "import os\n",
    "import pandas as pd\n",
    "\n",
    "logger = logging.getLogger()\n",
    "logger.setLevel(logging.INFO)"
   ]
  },
  {
   "cell_type": "code",
   "execution_count": null,
   "metadata": {},
   "outputs": [],
   "source": [
    "column_names = ['StudyDate', 'StudyTime', 'SeriesDate', 'Modality', 'StudyDescription',\n",
    "                'SeriesDescription', 'PatientID', 'StudyID', 'SeriesInstanceUID', 'NumberOfSlices',\n",
    "                'Private_07a1_1002', 'SeriesNumber', 'PerformedProcedureStepDescription',\n",
    "                'AcquisitionTime', 'ActualFrameDuration', 'ContentTime', 'InstitutionName', 'Manufacturer',\n",
    "                'ManufacturerModelName']\n",
    "df = pd.DataFrame(columns=column_names)"
   ]
  },
  {
   "cell_type": "code",
   "execution_count": null,
   "metadata": {},
   "outputs": [],
   "source": [
    "root_folder = 'PACS_data'\n",
    "month_folders = os.listdir(root_folder)\n",
    "i_row = 0\n",
    "for month_folder in month_folders:\n",
    "    month_folder_path = root_folder + '/' + month_folder\n",
    "    day_folders = os.listdir(month_folder_path)\n",
    "    for day_folder in day_folders:\n",
    "        day_folder_path = root_folder + '/' + month_folder + '/' + day_folder\n",
    "        DICOM_files = os.listdir(day_folder_path)\n",
    "        for i_file in range(len(DICOM_files)):\n",
    "            DICOM_file_path = day_folder_path + '/' + DICOM_files[i_file]\n",
    "            try:\n",
    "                d = pydicom.dcmread(DICOM_file_path)\n",
    "            except:\n",
    "                logging.error(f'Error reading DICOM file at {DICOM_file_path}.')\n",
    "                continue\n",
    "            for i_col in range(len(column_names)):\n",
    "                col_name = column_names[i_col]\n",
    "                dicom_info_element = d.get(col_name)\n",
    "                if dicom_info_element is not None:\n",
    "                    df.loc[i_row, col_name] = dicom_info_element\n",
    "            i_row += 1\n",
    "            "
   ]
  },
  {
   "cell_type": "code",
   "execution_count": null,
   "metadata": {},
   "outputs": [],
   "source": [
    "df"
   ]
  },
  {
   "cell_type": "code",
   "execution_count": null,
   "metadata": {},
   "outputs": [],
   "source": [
    "\n"
   ]
  },
  {
   "cell_type": "code",
   "execution_count": null,
   "metadata": {},
   "outputs": [],
   "source": [
    "d.ModalitiesInStudy"
   ]
  },
  {
   "cell_type": "code",
   "execution_count": null,
   "metadata": {},
   "outputs": [],
   "source": []
  }
 ],
 "metadata": {
  "kernelspec": {
   "display_name": ".venv",
   "language": "python",
   "name": ".venv"
  },
  "language_info": {
   "codemirror_mode": {
    "name": "ipython",
    "version": 3
   },
   "file_extension": ".py",
   "mimetype": "text/x-python",
   "name": "python",
   "nbconvert_exporter": "python",
   "pygments_lexer": "ipython3",
   "version": "3.6.8"
  }
 },
 "nbformat": 4,
 "nbformat_minor": 2
}
