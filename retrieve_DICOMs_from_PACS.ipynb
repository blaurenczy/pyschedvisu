{
 "cells": [
  {
   "cell_type": "markdown",
   "metadata": {},
   "source": [
    "Tests for retrieving data from PACS\n",
    "--"
   ]
  },
  {
   "cell_type": "markdown",
   "metadata": {},
   "source": [
    "Imports\n",
    "--"
   ]
  },
  {
   "cell_type": "code",
   "execution_count": null,
   "metadata": {},
   "outputs": [],
   "source": [
    "import logging\n",
    "import configparser\n",
    "from datetime import datetime as dt\n",
    "\n",
    "from IPython.core import display as ICD\n",
    "\n",
    "from pydicom.dataset import Dataset\n",
    "\n",
    "from scripts.run_all import run_all\n",
    "from scripts.retrieve_data_from_PACS import retrieve_data\n",
    "\n",
    "#from pynetdicom import debug_logger\n",
    "#debug_logger()\n",
    "\n",
    "%reload_ext autoreload\n",
    "%autoreload 2"
   ]
  },
  {
   "cell_type": "markdown",
   "metadata": {},
   "source": [
    "Set the logger of the pynetdicom module to ERROR, to avoid logs"
   ]
  },
  {
   "cell_type": "code",
   "execution_count": null,
   "metadata": {},
   "outputs": [],
   "source": [
    "logging.getLogger('pynetdicom').setLevel(logging.ERROR)"
   ]
  },
  {
   "cell_type": "markdown",
   "metadata": {},
   "source": [
    "Initialize the \"config\" object"
   ]
  },
  {
   "cell_type": "code",
   "execution_count": null,
   "metadata": {
    "scrolled": true
   },
   "outputs": [],
   "source": [
    "config = run_all()\n",
    "#df_study = retrieve_studies(config)\n",
    "#df_study"
   ]
  },
  {
   "cell_type": "markdown",
   "metadata": {},
   "source": [
    "Get all the series corresponding to the query Dataset's filter [date = 2019-10-01, study time = between 8am and 9am]"
   ]
  },
  {
   "cell_type": "code",
   "execution_count": null,
   "metadata": {
    "scrolled": true
   },
   "outputs": [],
   "source": [
    "query_ds = Dataset()\n",
    "\n",
    "# set the filtering parameters\n",
    "query_ds.QueryRetrieveLevel = 'SERIES'\n",
    "query_ds.StudyDate  = '20191001'\n",
    "query_ds.SeriesDate = '20191001'\n",
    "query_ds.StudyTime  = '080000-090000'\n",
    "query_ds.SeriesTime = '080000-090000'\n",
    "\n",
    "# parameters to fetch\n",
    "query_ds.NumberOfSeriesRelatedInstances = ''\n",
    "query_ds.SeriesInstanceUID = ''\n",
    "query_ds.Modality = ''\n",
    "\n",
    "logging.info('Query Dataset:')\n",
    "for s in str(query_ds).split('\\n'): logging.info('    ' + s)\n",
    "\n",
    "df_series_all = retrieve_data(config, query_ds)\n",
    "df_series_all"
   ]
  },
  {
   "cell_type": "markdown",
   "metadata": {},
   "source": [
    "Get a list of Series having more than a few frames"
   ]
  },
  {
   "cell_type": "code",
   "execution_count": null,
   "metadata": {},
   "outputs": [],
   "source": [
    "df_series = df_series_all[df_series_all['Number of Series Related Instances'].astype(int) > 2][0:3]\n",
    "df_series"
   ]
  },
  {
   "cell_type": "markdown",
   "metadata": {},
   "source": [
    "Get time differences by querying the ContentTime on the IMAGE level"
   ]
  },
  {
   "cell_type": "code",
   "execution_count": null,
   "metadata": {},
   "outputs": [],
   "source": [
    "time_format = '%H%M%S'\n",
    "\n",
    "for i in df_series.index:\n",
    "    \n",
    "    series_UID = df_series.loc[i, 'Series Instance UID']\n",
    "    last_frame = df_series.loc[i, 'Number of Series Related Instances']\n",
    "    \n",
    "    logging.info('Fetching info for index {}: \"{}\"'.format(i, series_UID))\n",
    "    \n",
    "    query_ds = Dataset()\n",
    "    query_ds.QueryRetrieveLevel = 'IMAGE'\n",
    "    query_ds.InstanceNumber = ['1', last_frame]\n",
    "    query_ds.SeriesInstanceUID = series_UID\n",
    "    query_ds.ContentTime = ''\n",
    "    \n",
    "    df = retrieve_data(config, query_ds)\n",
    "    \n",
    "    start_time = dt.strptime(df.loc[0, 'Content Time'], time_format)\n",
    "    end_time = dt.strptime(df.loc[1, 'Content Time'], time_format)\n",
    "    delta_sec = (end_time - start_time).seconds\n",
    "\n",
    "    logging.info('Series total time: end [{:%H:%M:%S}] - [{:%H:%M:%S}] = {} seconds'.format(end_time, start_time, delta_sec))"
   ]
  },
  {
   "cell_type": "markdown",
   "metadata": {},
   "source": [
    "Get the Machine Name"
   ]
  },
  {
   "cell_type": "code",
   "execution_count": null,
   "metadata": {},
   "outputs": [],
   "source": [
    "query_ds = Dataset()\n",
    "query_ds.QueryRetrieveLevel = 'IMAGE'\n",
    "query_ds.InstanceNumber = ['1', last_frame]\n",
    "query_ds.SeriesInstanceUID = series_UID\n",
    "query_ds.ContentTime = ''\n",
    "query_ds.ManufacturerModelName = ''\n",
    "    \n",
    "logging.info('Query Dataset:')\n",
    "for s in str(query_ds).split('\\n'): logging.info('    ' + s)\n",
    "    \n",
    "df = retrieve_data(config, query_ds)\n",
    "df"
   ]
  },
  {
   "cell_type": "code",
   "execution_count": null,
   "metadata": {},
   "outputs": [],
   "source": [
    "df_series_pt = \\\n",
    "    df_series_all[\n",
    "        (df_series_all.Modality == 'PT')\n",
    "      & (df_series_all['Number of Series Related Instances'].astype(int) > 1)\n",
    "    ][0:10]\n",
    "df_series_pt"
   ]
  },
  {
   "cell_type": "code",
   "execution_count": null,
   "metadata": {},
   "outputs": [],
   "source": [
    "time_format = '%H%M%S'\n",
    "\n",
    "for i in df_series_pt.index:\n",
    "    \n",
    "    series_UID = df_series_pt.loc[i, 'Series Instance UID']\n",
    "    last_frame = df_series_pt.loc[i, 'Number of Series Related Instances']\n",
    "    mid_frame = str(int(int(last_frame) / 2))\n",
    "    \n",
    "    logging.info('Fetching info for index {}: \"{}\"'.format(i, series_UID))\n",
    "    \n",
    "    query_ds = Dataset()\n",
    "    query_ds.QueryRetrieveLevel = 'IMAGE'\n",
    "    query_ds.InstanceNumber = ['1', mid_frame, last_frame]\n",
    "    query_ds.SeriesInstanceUID = series_UID\n",
    "    query_ds.StudyTime = ''\n",
    "    query_ds.SeriesTime = ''\n",
    "    query_ds.ContentTime = ''\n",
    "    query_ds.NumberOfSeriesRelatedInstances = ''\n",
    "    \n",
    "    df = retrieve_data(config, query_ds)\n",
    "    if len(df) > 0:\n",
    "        ICD.display(df)"
   ]
  },
  {
   "cell_type": "code",
   "execution_count": null,
   "metadata": {},
   "outputs": [],
   "source": [
    "df.loc[0, 'Content Time'].split('.')[0]"
   ]
  },
  {
   "cell_type": "code",
   "execution_count": null,
   "metadata": {},
   "outputs": [],
   "source": []
  }
 ],
 "metadata": {
  "kernelspec": {
   "display_name": "Python 3",
   "language": "python",
   "name": "python3"
  },
  "language_info": {
   "codemirror_mode": {
    "name": "ipython",
    "version": 3
   },
   "file_extension": ".py",
   "mimetype": "text/x-python",
   "name": "python",
   "nbconvert_exporter": "python",
   "pygments_lexer": "ipython3",
   "version": "3.7.4"
  }
 },
 "nbformat": 4,
 "nbformat_minor": 2
}
