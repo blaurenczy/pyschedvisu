{
 "cells": [
  {
   "cell_type": "markdown",
   "metadata": {},
   "source": [
    "Tests for retrieving data from PACS\n",
    "--"
   ]
  },
  {
   "cell_type": "markdown",
   "metadata": {},
   "source": [
    "Imports\n",
    "--"
   ]
  },
  {
   "cell_type": "code",
   "execution_count": null,
   "metadata": {},
   "outputs": [],
   "source": [
    "import logging\n",
    "import configparser\n",
    "import pandas as pd\n",
    "from collections import namedtuple\n",
    "\n",
    "from datetime import datetime as dt\n",
    "\n",
    "from IPython.core import display as ICD\n",
    "\n",
    "from pydicom.dataset import Dataset\n",
    "\n",
    "from scripts.run_all import run_all\n",
    "from scripts.retrieve_data_from_PACS import *\n",
    "\n",
    "#from pynetdicom import debug_logger\n",
    "#debug_logger()\n",
    "\n",
    "# set the width of display to infinite for all pandas DataFrame\n",
    "pd.set_option('display.max_colwidth', -1)\n",
    "# set the level of pynetdicom module's logger to ERROR, to avoid any logs\n",
    "logging.getLogger('pynetdicom').setLevel(logging.ERROR)\n",
    "\n",
    "%load_ext autoreload\n",
    "%reload_ext autoreload\n",
    "%autoreload 2"
   ]
  },
  {
   "cell_type": "markdown",
   "metadata": {},
   "source": [
    "Initialize the \"config\" object\n",
    "--"
   ]
  },
  {
   "cell_type": "code",
   "execution_count": null,
   "metadata": {
    "scrolled": false
   },
   "outputs": [],
   "source": [
    "config = run_all()"
   ]
  },
  {
   "cell_type": "markdown",
   "metadata": {},
   "source": [
    "Get all PT studies for a day\n",
    "--"
   ]
  },
  {
   "cell_type": "code",
   "execution_count": null,
   "metadata": {
    "scrolled": true
   },
   "outputs": [],
   "source": [
    "df_PT_studies = find_studies_for_day(config, '20190806', 'PT')\n",
    "df_PT_studies"
   ]
  },
  {
   "cell_type": "markdown",
   "metadata": {},
   "source": [
    "Get all PT and CT series for the found PT studies and get their time ranges\n",
    "--"
   ]
  },
  {
   "cell_type": "code",
   "execution_count": null,
   "metadata": {
    "scrolled": true
   },
   "outputs": [],
   "source": [
    "for i_study in range(len(df_PT_studies)):\n",
    "    logging.debug('DataFrame row:\\n' + str(df_PT_studies.loc[i_study, :]))\n",
    "    df_series = find_series_for_study(config, df_PT_studies.loc[i_study, :])\n",
    "\n",
    "    for i_series in range(len(df_series)):\n",
    "        logging.debug('Series: ' + str(df_series.loc[i_series, :]))\n",
    "        row_info = fetch_info_for_series(config, df_series.loc[i_series, :], 'PT')\n",
    "        \n",
    "        if row_info is None:\n",
    "            logging.error('Skipping series {}: no data found.'.format(df_series.loc[i_series, 'Series Instance UID']))\n",
    "            continue\n",
    "\n",
    "        # copy the relevant parameters into the main DataFrame\n",
    "        df_series.loc[i_series, 'start_time'] = row_info['start_time']\n",
    "        df_series.loc[i_series, 'end_time'] = row_info['end_time']\n",
    "        df_series.loc[i_series, 'machine'] = row_info['machine']\n",
    "    \n",
    "    # remove redundant series\n",
    "    df_series = prunes_series_by_time_overlap(df_series)\n",
    "    \n",
    "    # create time ranges from the start/end times\n",
    "    time_ranges = []\n",
    "    for i_serie in range(len(df_series)):\n",
    "        time_ranges.append('{}-{}'.format(df_series.loc[i_serie, 'start_time'],\n",
    "                                          df_series.loc[i_serie, 'end_time']))\n",
    "    \n",
    "    # propagate back the time range and machine name information\n",
    "    df_PT_studies.loc[i_study, 'machines'] = ','.join(list(set(df_series['machine'])))\n",
    "    df_PT_studies.loc[i_study, 'time_ranges'] = ','.join(time_ranges)\n",
    "  "
   ]
  },
  {
   "cell_type": "markdown",
   "metadata": {},
   "source": [
    "There was a problem with: 20190806|133816|PT|PID:3124294|1.2.840.....214"
   ]
  },
  {
   "cell_type": "code",
   "execution_count": null,
   "metadata": {},
   "outputs": [],
   "source": [
    "df_PT_studies"
   ]
  },
  {
   "cell_type": "code",
   "execution_count": null,
   "metadata": {},
   "outputs": [],
   "source": [
    "set([m for m_list in df_PT_studies['machines'].str.split(',') for m in m_list])"
   ]
  },
  {
   "cell_type": "markdown",
   "metadata": {},
   "source": [
    "Get all NM studies for a single day\n",
    "--"
   ]
  },
  {
   "cell_type": "code",
   "execution_count": null,
   "metadata": {},
   "outputs": [],
   "source": [
    "df_NM_studies = find_studies_for_day(config, '20190806', 'NM')\n",
    "df_NM_studies = df_NM_studies[df_NM_studies['Patient ID'].str.match('^\\d+$')]\n",
    "df_NM_studies = df_NM_studies[~df_NM_studies['Study Description'].isin(['EXTRINSEQUE'])]\n",
    "df_NM_studies.reset_index(drop=True, inplace=True)\n",
    "df_NM_studies"
   ]
  },
  {
   "cell_type": "markdown",
   "metadata": {},
   "source": [
    "Get all NM and CT series for the found NM studies and get their time ranges\n",
    "--"
   ]
  },
  {
   "cell_type": "code",
   "execution_count": null,
   "metadata": {
    "scrolled": true
   },
   "outputs": [],
   "source": [
    "#for i_study in range(len(df_NM_studies)):\n",
    "for i_study in range(1):\n",
    "    logging.debug('DataFrame row:\\n' + str(df_NM_studies.loc[i_study, :]))\n",
    "    df_series = find_series_for_study(config, df_NM_studies.loc[i_study, :])\n",
    "    \n",
    "    # filter out irrelevant series\n",
    "    df_series = df_series[~df_series['Protocol Name'].isin(['SCREENCAPTURE'])]\n",
    "    df_series = df_series[~df_series['Series Description'].isin(['Renal_Results'])]\n",
    "    df_series.reset_index(drop=True, inplace=True)\n",
    "    \n",
    "    for i_series in range(len(df_series)):\n",
    "        logging.debug('Series: ' + str(df_series.loc[i_series, :]))\n",
    "        row_info = fetch_info_for_series(config, df_series.loc[i_series, :], 'NM')\n",
    "        \n",
    "        if row_info is None:\n",
    "            logging.error('Skipping series {}: no data found.'.format(df_series.loc[i_series, 'Series Instance UID']))\n",
    "            continue\n",
    "\n",
    "        # copy the relevant parameters into the main DataFrame\n",
    "        df_series.loc[i_series, 'start_time'] = row_info['start_time']\n",
    "        df_series.loc[i_series, 'end_time'] = row_info['end_time']\n",
    "        df_series.loc[i_series, 'machine'] = row_info['machine']\n",
    "    \n",
    "    # create time ranges from the start/end times\n",
    "    time_ranges = []\n",
    "    for i_serie in range(len(df_series)):\n",
    "        time_ranges.append('{}-{}'.format(df_series.loc[i_serie, 'start_time'],\n",
    "                                          df_series.loc[i_serie, 'end_time']))\n",
    "    \n",
    "    # propagate back the time range and machine name information\n",
    "    df_NM_studies.loc[i_study, 'machines'] = ','.join(list(set(df_series['machine'])))\n",
    "    df_NM_studies.loc[i_study, 'time_ranges'] = ','.join(time_ranges)\n",
    "    \n",
    "df_NM_studies"
   ]
  },
  {
   "cell_type": "markdown",
   "metadata": {},
   "source": [
    "Find all 'PT' and 'NM' studies for a day\n",
    "--"
   ]
  },
  {
   "cell_type": "code",
   "execution_count": null,
   "metadata": {},
   "outputs": [],
   "source": [
    "df_studies = find_studies_for_day(config, '20190806', ['PT', 'NM'])\n",
    "df_studies = df_studies[df_studies['Patient ID'].str.match('^\\d+$')]\n",
    "df_studies = df_studies[~df_studies['Study Description'].isin(['EXTRINSEQUE'])]\n",
    "df_studies.reset_index(drop=True, inplace=True)\n",
    "df_studies"
   ]
  },
  {
   "cell_type": "markdown",
   "metadata": {},
   "source": [
    "Get all series for the found studies and get their time ranges\n",
    "--"
   ]
  },
  {
   "cell_type": "code",
   "execution_count": null,
   "metadata": {},
   "outputs": [],
   "source": [
    "for i_study in range(len(df_studies)):\n",
    "    logging.debug('DataFrame row:\\n' + str(df_studies.loc[i_study, :]))\n",
    "    df_series = find_series_for_study(config, df_studies.loc[i_study, :])\n",
    "    \n",
    "    for i_series in range(len(df_series)):\n",
    "        logging.debug('Series: ' + str(df_series.loc[i_series, :]))\n",
    "        row_info = fetch_info_for_series(config, df_series.loc[i_series, :])\n",
    "        \n",
    "        if row_info is None:\n",
    "            logging.error('Skipping series {}: no data found.'.format(df_series.loc[i_series, 'Series Instance UID']))\n",
    "            continue\n",
    "\n",
    "        # copy the relevant parameters into the main DataFrame\n",
    "        df_series.loc[i_series, 'start_time'] = row_info['start_time']\n",
    "        df_series.loc[i_series, 'end_time'] = row_info['end_time']\n",
    "        df_series.loc[i_series, 'machine'] = row_info['machine']\n",
    "    \n",
    "    # remove redundant series\n",
    "    df_series = prunes_series_by_time_overlap(df_series)\n",
    "    \n",
    "    # create time ranges from the start/end times\n",
    "    time_ranges = []\n",
    "    for i_serie in range(len(df_series)):\n",
    "        time_ranges.append('{}-{}'.format(df_series.loc[i_serie, 'start_time'],\n",
    "                                          df_series.loc[i_serie, 'end_time']))\n",
    "    \n",
    "    # propagate back the time range and machine name information\n",
    "    df_studies.loc[i_study, 'machines'] = ','.join(list(set(df_series['machine'])))\n",
    "    df_studies.loc[i_study, 'time_ranges'] = ','.join(time_ranges)\n",
    "    df_studies.loc[i_study, 'overall_time_range'] = '{}-{}'.format(\n",
    "        df_series.iloc[0]['start_time'], df_series.iloc[-1]['end_time'])\n",
    "    \n",
    "df_studies.loc[0:11, :]"
   ]
  }
 ],
 "metadata": {
  "kernelspec": {
   "display_name": "Python 3",
   "language": "python",
   "name": "python3"
  },
  "language_info": {
   "codemirror_mode": {
    "name": "ipython",
    "version": 3
   },
   "file_extension": ".py",
   "mimetype": "text/x-python",
   "name": "python",
   "nbconvert_exporter": "python",
   "pygments_lexer": "ipython3",
   "version": "3.7.4"
  }
 },
 "nbformat": 4,
 "nbformat_minor": 2
}
