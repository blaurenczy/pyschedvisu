{
 "cells": [
  {
   "cell_type": "markdown",
   "metadata": {},
   "source": [
    "### Imports"
   ]
  },
  {
   "cell_type": "code",
   "execution_count": null,
   "metadata": {},
   "outputs": [],
   "source": [
    "import logging\n",
    "\n",
    "from IPython.core.display import display, HTML\n",
    "\n",
    "from scripts.main import *\n",
    "from scripts.retrieve_data import *\n",
    "from scripts.extract_data import *\n",
    "\n",
    "%load_ext autoreload\n",
    "%reload_ext autoreload\n",
    "%autoreload 2\n",
    "\n",
    "# set the width of the notebook\n",
    "display(HTML(\"<style>.container { width:95% !important; }</style>\"))"
   ]
  },
  {
   "cell_type": "markdown",
   "metadata": {},
   "source": [
    "### Prepare for tests"
   ]
  },
  {
   "cell_type": "code",
   "execution_count": null,
   "metadata": {},
   "outputs": [],
   "source": [
    "create_logger()\n",
    "config = load_config()"
   ]
  },
  {
   "cell_type": "code",
   "execution_count": null,
   "metadata": {
    "scrolled": true
   },
   "outputs": [],
   "source": [
    "df_studies = find_studies_for_day(config, config['main']['start_date'].replace('-', ''), ['PT', 'NM'])\n",
    "df_series = find_series_for_studies(config, df_studies)"
   ]
  },
  {
   "cell_type": "markdown",
   "metadata": {},
   "source": [
    "### Test single association"
   ]
  },
  {
   "cell_type": "code",
   "execution_count": null,
   "metadata": {},
   "outputs": [],
   "source": [
    "image_level_filters = ['Patient ID', 'Series Date', 'Series Instance UID', 'Modality']\n",
    "to_fetch_fields = ['InstanceNumber', 'ManufacturerModelName', 'AcquisitionTime', 'Modality',\n",
    "                   'ImageType', 'ActualFrameDuration', 'NumberOfFrames', '0x00540032', '0x00540052']\n",
    "# create the query dataset\n",
    "series_row = df_series.iloc[1, :]\n",
    "query_ds = create_dataset_from_dataframe_row(series_row, 'IMAGE', incl=image_level_filters, add_instance_number_filter=True)\n",
    "# add some more filters for the 'PT' modality\n",
    "if series_row['Number of Series Related Instances'] != '1': image_number_filter = ['1', series_row['Number of Series Related Instances']]\n",
    "else: image_number_filter = '1'\n",
    "# add the instance number filters for the 'PT' & 'CT' modalities\n",
    "if series_row['Modality'] == 'PT' or series_row['Modality'] == 'CT': query_ds.InstanceNumber = image_number_filter\n",
    "# display the Dataset\n",
    "logging.info('Query Dataset:')\n",
    "for s in str(query_ds).split('\\n'): logging.info('    ' + s)\n",
    "\n",
    "df, datasets = get_data_single(config, query_ds, to_fetch_fields)\n",
    "df"
   ]
  },
  {
   "cell_type": "markdown",
   "metadata": {},
   "source": [
    "### Test multiple association"
   ]
  },
  {
   "cell_type": "code",
   "execution_count": null,
   "metadata": {},
   "outputs": [],
   "source": [
    "# fields to use as filters to get the image\n",
    "image_level_filters = ['Patient ID', 'Series Date', 'Series Instance UID', 'Modality']\n",
    "# fields to fetch from the DICOM header\n",
    "to_fetch_fields = ['InstanceNumber', 'ManufacturerModelName', 'AcquisitionTime', 'Modality',\n",
    "                   'ImageType', 'ActualFrameDuration', 'NumberOfFrames', '0x00540032', '0x00540052']"
   ]
  },
  {
   "cell_type": "code",
   "execution_count": null,
   "metadata": {},
   "outputs": [],
   "source": [
    "# create the query datasets for each row\n",
    "query_datasets = df_series.apply(\n",
    "    lambda row:\n",
    "    create_dataset_from_dataframe_row(row, 'IMAGE', incl=image_level_filters),\n",
    "    axis=1)"
   ]
  },
  {
   "cell_type": "code",
   "execution_count": null,
   "metadata": {},
   "outputs": [],
   "source": [
    "# fetch the data (C-MOVE)\n",
    "df_info, _ = get_data(config, query_datasets, to_fetch_fields)"
   ]
  }
 ],
 "metadata": {
  "kernelspec": {
   "display_name": "Python 3",
   "language": "python",
   "name": "python3"
  },
  "language_info": {
   "codemirror_mode": {
    "name": "ipython",
    "version": 3
   },
   "file_extension": ".py",
   "mimetype": "text/x-python",
   "name": "python",
   "nbconvert_exporter": "python",
   "pygments_lexer": "ipython3",
   "version": "3.7.4"
  }
 },
 "nbformat": 4,
 "nbformat_minor": 2
}
