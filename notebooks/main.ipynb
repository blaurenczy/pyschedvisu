{
 "cells": [
  {
   "cell_type": "markdown",
   "metadata": {},
   "source": [
    "### Imports"
   ]
  },
  {
   "cell_type": "code",
   "execution_count": null,
   "metadata": {},
   "outputs": [],
   "source": [
    "import logging\n",
    "import time\n",
    "from copy import deepcopy\n",
    "\n",
    "from IPython.core.display import display, HTML\n",
    "\n",
    "import os\n",
    "os.chdir('H:/Mes Documents/ServiceCivil2019/schedvisu')\n",
    "import sys\n",
    "sys.path.append('scripts')\n",
    "\n",
    "from main import create_logger, load_config, run_pipeline, run\n",
    "\n",
    "%load_ext autoreload\n",
    "%reload_ext autoreload\n",
    "%autoreload 2\n",
    "\n",
    "# set the width of the notebook\n",
    "display(HTML(\"<style>.container { width:95% !important; }</style>\"))"
   ]
  },
  {
   "cell_type": "markdown",
   "metadata": {},
   "source": [
    "###  Run the whole pipeline"
   ]
  },
  {
   "cell_type": "code",
   "execution_count": null,
   "metadata": {
    "scrolled": false
   },
   "outputs": [],
   "source": [
    "run()\n",
    "logging.shutdown()"
   ]
  },
  {
   "cell_type": "markdown",
   "metadata": {},
   "source": [
    "###  Run the whole pipeline for 4 years, starting by 2019"
   ]
  },
  {
   "cell_type": "code",
   "execution_count": null,
   "metadata": {
    "scrolled": false
   },
   "outputs": [],
   "source": [
    "date_ranges = [\n",
    "    {'start': '20190101', 'end': '20191206'},\n",
    "    {'start': '20180101', 'end': '20181231'},\n",
    "    {'start': '20170101', 'end': '20171231'},\n",
    "    {'start': '20160101', 'end': '20161231'}\n",
    "]\n",
    "\n",
    "config = load_config()\n",
    "for date_range in date_ranges:\n",
    "    try:\n",
    "        create_logger()\n",
    "        local_config = deepcopy(config)\n",
    "        local_config['main']['start_date'] = date_range['start']\n",
    "        local_config['main']['end_date'] = date_range['end']\n",
    "        run_pipeline(local_config)\n",
    "\n",
    "    except Exception as e:\n",
    "        logging.error('Error while running workflow')\n",
    "        logging.error(\"-\"*60)\n",
    "        logging.error(e, exc_info=True)\n",
    "        logging.error(\"-\"*60)\n",
    "\n",
    "    except KeyboardInterrupt:\n",
    "        logging.error('Interrupted by user')\n",
    "\n",
    "    finally:\n",
    "        logging.shutdown()\n",
    "        time.sleep(1)"
   ]
  },
  {
   "cell_type": "markdown",
   "metadata": {},
   "source": [
    "### Close the logging"
   ]
  },
  {
   "cell_type": "code",
   "execution_count": null,
   "metadata": {},
   "outputs": [],
   "source": [
    "logging.shutdown()"
   ]
  }
 ],
 "metadata": {
  "kernelspec": {
   "display_name": "Python 3",
   "language": "python",
   "name": "python3"
  },
  "language_info": {
   "codemirror_mode": {
    "name": "ipython",
    "version": 3
   },
   "file_extension": ".py",
   "mimetype": "text/x-python",
   "name": "python",
   "nbconvert_exporter": "python",
   "pygments_lexer": "ipython3",
   "version": "3.7.4"
  }
 },
 "nbformat": 4,
 "nbformat_minor": 2
}
