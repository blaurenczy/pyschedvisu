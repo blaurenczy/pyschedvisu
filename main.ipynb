{
 "cells": [
  {
   "cell_type": "code",
   "execution_count": 1,
   "metadata": {},
   "outputs": [
    {
     "data": {
      "text/html": [
       "<style>.container { width:95% !important; }</style>"
      ],
      "text/plain": [
       "<IPython.core.display.HTML object>"
      ]
     },
     "metadata": {},
     "output_type": "display_data"
    }
   ],
   "source": [
    "import logging\n",
    "\n",
    "from IPython.core import display as ICD\n",
    "\n",
    "from scripts.main import run\n",
    "\n",
    "%load_ext autoreload\n",
    "%reload_ext autoreload\n",
    "%autoreload 2\n",
    "\n",
    "from IPython.core.display import display, HTML\n",
    "display(HTML(\"<style>.container { width:95% !important; }</style>\"))"
   ]
  },
  {
   "cell_type": "code",
   "execution_count": 2,
   "metadata": {},
   "outputs": [
    {
     "name": "stderr",
     "output_type": "stream",
     "text": [
      "2019-11-13 16:51:53,273|run                           : 20|INFO   | Reading configuration\n",
      "2019-11-13 16:51:53,284|run                           : 30|INFO   | Starting SchedVisu workflow\n",
      "2019-11-13 16:51:53,285|retrieve_and_save_data_from_PA: 32|INFO   | Retrieving data from PACS\n",
      "2019-11-13 16:51:53,287|retrieve_and_save_data_from_PA: 44|INFO   | Processing 20191101\n",
      "2019-11-13 16:51:53,291|retrieve_and_save_single_day_d: 66|INFO   | Skipping   20191101: save file found at \"data\\2019\\2019-11\\2019-11-01.pkl\", nothing to do\n",
      "2019-11-13 16:51:53,292|retrieve_and_save_data_from_PA: 44|INFO   | Processing 20191102\n",
      "2019-11-13 16:51:53,294|retrieve_and_save_single_day_d: 70|INFO   | Processing 20191102: no save file found at \"data\\2019\\2019-11\\2019-11-02.pkl\"\n",
      "2019-11-13 16:51:53,296|find_studies_for_day          :102|INFO   | Processing 20191102: retrieving all studies from PACS\n",
      "2019-11-13 16:51:55,556|retrieve_and_save_single_day_d: 75|WARNING| Warning at 20191102: no studies found\n",
      "2019-11-13 16:51:55,556|retrieve_and_save_data_from_PA: 44|INFO   | Processing 20191103\n",
      "2019-11-13 16:51:55,558|retrieve_and_save_single_day_d: 70|INFO   | Processing 20191103: no save file found at \"data\\2019\\2019-11\\2019-11-03.pkl\"\n",
      "2019-11-13 16:51:55,558|find_studies_for_day          :102|INFO   | Processing 20191103: retrieving all studies from PACS\n",
      "2019-11-13 16:51:55,752|retrieve_and_save_single_day_d: 75|WARNING| Warning at 20191103: no studies found\n",
      "2019-11-13 16:51:55,752|retrieve_and_save_data_from_PA: 44|INFO   | Processing 20191104\n",
      "2019-11-13 16:51:55,755|retrieve_and_save_single_day_d: 66|INFO   | Skipping   20191104: save file found at \"data\\2019\\2019-11\\2019-11-04.pkl\", nothing to do\n",
      "2019-11-13 16:51:55,756|extract_transform_and_save_dat: 19|INFO   | Extracting data from files\n",
      "2019-11-13 16:51:55,757|extract_transform_and_save_dat: 31|INFO   | Processing 20191101\n",
      "2019-11-13 16:51:55,761|extract_transform_and_save_dat: 40|INFO   | Skipping   20191101: save file found at \"data\\2019\\2019-11\\2019-11-01.pkl\", loading data\n",
      "2019-11-13 16:51:55,783|extract_transform_and_save_dat: 31|INFO   | Processing 20191102\n",
      "2019-11-13 16:51:55,785|extract_transform_and_save_dat: 49|INFO   | Processing 20191102: no save file found at \"data\\2019\\2019-11\\2019-11-02.pkl\"\n",
      "2019-11-13 16:51:55,786|extract_transform_and_save_dat: 31|INFO   | Processing 20191103\n",
      "2019-11-13 16:51:55,787|extract_transform_and_save_dat: 49|INFO   | Processing 20191103: no save file found at \"data\\2019\\2019-11\\2019-11-03.pkl\"\n",
      "2019-11-13 16:51:55,788|extract_transform_and_save_dat: 31|INFO   | Processing 20191104\n",
      "2019-11-13 16:51:55,790|extract_transform_and_save_dat: 40|INFO   | Skipping   20191104: save file found at \"data\\2019\\2019-11\\2019-11-04.pkl\", loading data\n",
      "2019-11-13 16:51:55,866|extract_transform_and_save_dat: 53|INFO   |                                                                                                             Number of Series\n",
      "Machine Group # Machine Group Name Machine Name          Institution Name                         Modality                  \n",
      "1               PET Siemens        Biograph64            Centre hospitalier universitaire vaudois CT                      61\n",
      "                                   Biograph64_Vision 600 Centre hospitalier universitaire vaudois PT                      88\n",
      "2               Discovery          Discovery 690         PET CT  CHUV                             CT                      40\n",
      "                                                         PET CT CHUV                              PT                      28\n",
      "3               PET GE             BrightSpeed           CHUV                                     CT                      26\n",
      "                                   Tandem_Discovery_670  CHUV                                     NM                      29\n",
      "4               Intevo             Encore2               Radiologie CHUV                          NM                      33\n",
      "                                                                                                  PT                       4\n",
      "                                   Symbia Intevo 16      Radiologie CHUV                          CT                      17\n",
      "5               Millennium         MILLENNIUM MPR        MEDECINE NUCLEAIRE CHUV LAUSANNE         NM                      14\n",
      "2019-11-13 16:51:55,869|run                           : 34|INFO   | Finished running SchedVisu workflow\n"
     ]
    }
   ],
   "source": [
    "run()"
   ]
  }
 ],
 "metadata": {
  "kernelspec": {
   "display_name": "Python 3",
   "language": "python",
   "name": "python3"
  },
  "language_info": {
   "codemirror_mode": {
    "name": "ipython",
    "version": 3
   },
   "file_extension": ".py",
   "mimetype": "text/x-python",
   "name": "python",
   "nbconvert_exporter": "python",
   "pygments_lexer": "ipython3",
   "version": "3.7.4"
  }
 },
 "nbformat": 4,
 "nbformat_minor": 2
}
