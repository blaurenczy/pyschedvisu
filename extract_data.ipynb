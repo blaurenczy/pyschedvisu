{
 "cells": [
  {
   "cell_type": "code",
   "execution_count": null,
   "metadata": {},
   "outputs": [],
   "source": [
    "import logging\n",
    "import datetime\n",
    "\n",
    "from IPython.core.display import display, HTML\n",
    "\n",
    "from scripts.main import *\n",
    "from scripts.retrieve_data import *\n",
    "from scripts.extract_data import *\n",
    "\n",
    "%load_ext autoreload\n",
    "%reload_ext autoreload\n",
    "%autoreload 2\n",
    "\n",
    "# set the width of the notebook\n",
    "display(HTML(\"<style>.container { width:95% !important; }</style>\"))"
   ]
  },
  {
   "cell_type": "markdown",
   "metadata": {},
   "source": [
    "### Load the config and get the series using the API"
   ]
  },
  {
   "cell_type": "code",
   "execution_count": null,
   "metadata": {},
   "outputs": [],
   "source": [
    "df_studies = load_transform_and_save_data_from_files(config)"
   ]
  },
  {
   "cell_type": "markdown",
   "metadata": {},
   "source": [
    "### Load the config and get the series manually"
   ]
  },
  {
   "cell_type": "code",
   "execution_count": null,
   "metadata": {},
   "outputs": [],
   "source": [
    "config = load_config()\n",
    "config['main']['start_date'] = '2019-01-07'\n",
    "config['main']['end_date'] = '2019-04-26'"
   ]
  },
  {
   "cell_type": "code",
   "execution_count": null,
   "metadata": {},
   "outputs": [],
   "source": [
    "config = load_config()\n",
    "config['main']['start_date'] = '2019-01-07'\n",
    "config['main']['end_date'] = '2019-04-26'\n",
    "df_series = load_data_from_files(config)\n",
    "\n",
    "indices_to_exclude = []\n",
    "logging.info('Found {} series before filtering description'.format(len(df_series)))\n",
    "for descr_pattern in config['retrieve']['series_descr_patterns_to_exclude'].split('\\n'):\n",
    "    to_exclude_rows = df_series['Series Description'].str.match(descr_pattern, case=False)\n",
    "    # gather all the indices\n",
    "    indices_to_exclude.append(to_exclude_rows[to_exclude_rows == True].index)\n",
    "# flatten the list\n",
    "indices_to_exclude = [index for indices in indices_to_exclude for index in indices.values]\n",
    "# if there is something to exclude, show a message and drop the rows\n",
    "if len(indices_to_exclude) > 0:\n",
    "    logging.info('Found {} series to exclude based on their description: \"{}\"'.format(len(indices_to_exclude),\n",
    "        '\", \"'.join(df_series.loc[indices_to_exclude]['Series Description'])))\n",
    "    df_series.drop(indices_to_exclude, inplace=True)\n",
    "logging.info('Found {} series after filtering description'.format(len(df_series)))\n",
    "\n",
    "# further filter out some Series that are not primary acquisitions (and do not contain any relevant time information)\n",
    "df_series = df_series[~df_series['Protocol Name'].isin(config['retrieve']['series_protocols_to_exclude'].split('\\n'))]\n",
    "logging.debug('Found {} series after filtering protocol names'.format(len(df_series)))\n",
    "\n",
    "#df_series = df_series[~df_series['Series Description'].isin(['Protocole patient', 'Enhancement curve'])]\n",
    "#df_series = df_series[df_series.Machine != 'syngo.via.VB30A']\n",
    "df_series"
   ]
  },
  {
   "cell_type": "code",
   "execution_count": null,
   "metadata": {},
   "outputs": [],
   "source": [
    "df_series[df_series.Machine == 'syngo.via.VB30A']"
   ]
  },
  {
   "cell_type": "markdown",
   "metadata": {},
   "source": [
    "### Do the marking of the re-takes"
   ]
  },
  {
   "cell_type": "code",
   "execution_count": null,
   "metadata": {
    "scrolled": true
   },
   "outputs": [],
   "source": [
    "df_series = mark_retakes(config, df_series)"
   ]
  },
  {
   "cell_type": "markdown",
   "metadata": {},
   "source": [
    "### Do the grouping"
   ]
  },
  {
   "cell_type": "code",
   "execution_count": null,
   "metadata": {},
   "outputs": [],
   "source": [
    "df_series, df_count_series, df_count_studies, df_count_series_day, df_count_study_day, df_count_study_weekday = do_series_groupby(config, df_series)"
   ]
  },
  {
   "cell_type": "code",
   "execution_count": null,
   "metadata": {},
   "outputs": [],
   "source": [
    "df_count_studies"
   ]
  },
  {
   "cell_type": "markdown",
   "metadata": {},
   "source": [
    "### Check what happened in the \"mixed cases\" studies"
   ]
  },
  {
   "cell_type": "code",
   "execution_count": null,
   "metadata": {
    "scrolled": false
   },
   "outputs": [],
   "source": [
    "with pd.option_context(\"display.max_rows\", 20): display(df_series[df_series['Machine Group'] == 'mixed cases'])"
   ]
  },
  {
   "cell_type": "code",
   "execution_count": null,
   "metadata": {},
   "outputs": [],
   "source": [
    "set(df_series[df_series['Machine Group'] == 'mixed cases']['Study Description'])"
   ]
  },
  {
   "cell_type": "markdown",
   "metadata": {},
   "source": [
    "### Do some counting on different fields"
   ]
  },
  {
   "cell_type": "code",
   "execution_count": null,
   "metadata": {
    "scrolled": false
   },
   "outputs": [],
   "source": [
    "for field in ['Institution Name', 'Machine', 'Machine Group', 'Modality', 'Series Description', 'Study Description', 'Patient ID', 'i_take']:\n",
    "    logging.info('Number of *Series* groupped by \"{}\"'.format(field))\n",
    "    display(df_series.groupby(field)['SUID'].count())\n",
    "    logging.info('Number of *Studies* groupped by \"{}\"'.format(field))\n",
    "    display(df_series.groupby([field, 'SUID']).count().reset_index().groupby(field)['SUID'].count())\n",
    "    logging.info('='*160)"
   ]
  },
  {
   "cell_type": "markdown",
   "metadata": {},
   "source": [
    "### Figure out the start and end times of each study"
   ]
  },
  {
   "cell_type": "code",
   "execution_count": null,
   "metadata": {},
   "outputs": [],
   "source": [
    "df_studies = df_series.dropna().groupby('SUID').agg({\n",
    "    'Series Date': lambda x: '/'.join(set(x)),\n",
    "    'Start Time': 'min',\n",
    "    'End Time': 'max',\n",
    "    'Study Description': lambda x: '/'.join(set(x)),\n",
    "    'Machine Group': lambda x: '/'.join(set(x)),\n",
    "    'Modality': lambda x: '/'.join(set(x)),\n",
    "    'Institution Name': lambda x: '/'.join(set(x)),\n",
    "    'Protocol Name': lambda x: '/'.join(set(x))\n",
    "}).sort_values(['Series Date', 'Machine Group', 'Start Time', 'SUID'])\n",
    "studies_save_path = 'data/studies/studies_{}_{}.pkl'.format(config['main']['start_date'], config['main']['end_date']).replace('-', '')\n",
    "df_studies.to_pickle(studies_save_path)"
   ]
  },
  {
   "cell_type": "code",
   "execution_count": null,
   "metadata": {},
   "outputs": [],
   "source": [
    "df_studies = load_transform_and_save_data_from_files(config)"
   ]
  }
 ],
 "metadata": {
  "kernelspec": {
   "display_name": "Python 3",
   "language": "python",
   "name": "python3"
  },
  "language_info": {
   "codemirror_mode": {
    "name": "ipython",
    "version": 3
   },
   "file_extension": ".py",
   "mimetype": "text/x-python",
   "name": "python",
   "nbconvert_exporter": "python",
   "pygments_lexer": "ipython3",
   "version": "3.7.4"
  }
 },
 "nbformat": 4,
 "nbformat_minor": 2
}
