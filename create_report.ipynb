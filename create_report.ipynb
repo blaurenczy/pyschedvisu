{
 "cells": [
  {
   "cell_type": "code",
   "execution_count": null,
   "metadata": {},
   "outputs": [],
   "source": [
    "import logging\n",
    "\n",
    "from IPython.core.display import display, HTML\n",
    "\n",
    "from scripts.main import *\n",
    "from scripts.retrieve_data import *\n",
    "from scripts.extract_data import *\n",
    "from scripts.create_report import *\n",
    "\n",
    "import matplotlib.pyplot as plt\n",
    "import matplotlib.image as mpimg\n",
    "from matplotlib.backends.backend_pdf import PdfPages\n",
    "\n",
    "from pandas.plotting import register_matplotlib_converters\n",
    "register_matplotlib_converters()\n",
    "\n",
    "%load_ext autoreload\n",
    "%reload_ext autoreload\n",
    "%autoreload 2\n",
    "\n",
    "# set the width of the notebook\n",
    "display(HTML(\"<style>.container { width:95% !important; }</style>\"))"
   ]
  },
  {
   "cell_type": "markdown",
   "metadata": {},
   "source": [
    "### Create the data (if needed)"
   ]
  },
  {
   "cell_type": "code",
   "execution_count": null,
   "metadata": {},
   "outputs": [],
   "source": [
    "config = load_config()\n",
    "config['main']['start_date'] = '2019-01-07'\n",
    "#config['main']['end_date'] = '2019-01-11'\n",
    "config['main']['end_date'] = '2019-01-18'\n",
    "#config['main']['end_date'] = '2019-04-26'\n",
    "load_transform_and_save_data_from_files(config)"
   ]
  },
  {
   "cell_type": "markdown",
   "metadata": {},
   "source": [
    "### Load the data"
   ]
  },
  {
   "cell_type": "code",
   "execution_count": null,
   "metadata": {},
   "outputs": [],
   "source": [
    "config = load_config()\n",
    "config['main']['start_date'] = '2019-01-07'\n",
    "#config['main']['end_date'] = '2019-01-11'\n",
    "config['main']['end_date'] = '2019-01-18'\n",
    "#config['main']['end_date'] = '2019-04-26'\n",
    "    \n",
    "# create the path where the data for the current config would be stored\n",
    "day_period_str = '{}_{}'.format(config['main']['start_date'], config['main']['end_date']).replace('-', '')\n",
    "studies_save_path = 'data/studies/studies_{}.pkl'.format(day_period_str)\n",
    "\n",
    "df = pd.read_pickle(studies_save_path)\n",
    "\n",
    "# exclude some machines and do some grouping up\n",
    "df['Machine'] = df['Machine Group'].str.replace('NoCT', '')\n",
    "df = df[df['Machine'] != 'mixed cases']"
   ]
  },
  {
   "cell_type": "markdown",
   "metadata": {},
   "source": [
    "## Create the PDF using the API"
   ]
  },
  {
   "cell_type": "code",
   "execution_count": null,
   "metadata": {
    "scrolled": false
   },
   "outputs": [],
   "source": [
    "create_report(config)"
   ]
  },
  {
   "cell_type": "markdown",
   "metadata": {},
   "source": [
    "## Create the PDF manually (debug mode)"
   ]
  },
  {
   "cell_type": "markdown",
   "metadata": {},
   "source": [
    "### Create the header"
   ]
  },
  {
   "cell_type": "code",
   "execution_count": null,
   "metadata": {},
   "outputs": [],
   "source": [
    "# create a matplotlib figure with the right aspect ratio\n",
    "fig = plt.figure(figsize=[8.27, 11.69])\n",
    "\n",
    "machine = 'Discovery'\n",
    "\n",
    "# header\n",
    "logging.info(\"Creating header section\")\n",
    "\n",
    "start_day = dt.strptime(config['main']['start_date'], '%Y-%m-%d')\n",
    "end_day = dt.strptime(config['main']['end_date'], '%Y-%m-%d')\n",
    "\n",
    "# analyse the week numbers\n",
    "week_numbers = sorted(list(set([start_day.strftime('%V'), end_day.strftime('%V')])))\n",
    "week_numbers_str = '-'.join(week_numbers)\n",
    "report_type = get_report_type(week_numbers)\n",
    "logging.info(f\"Header content: {report_type}, {week_numbers_str}\")\n",
    "\n",
    "# draw the header text with dates, etc.\n",
    "plt.rcParams[\"font.family\"] = \"monospace\"\n",
    "fig.text(0.62, 0.97, \"Rapport {}\".format(report_type), fontsize=17)\n",
    "fig.text(0.62, 0.93, \"Semaine{} {}\".format('s' if len(week_numbers) > 1 else '', week_numbers_str), fontsize=27, fontweight='bold')\n",
    "fig.text(0.63, 0.89, \"du {}\".format(start_day.strftime(\"%d/%m/%Y\")), fontsize=22)\n",
    "fig.text(0.63, 0.86, \"au {}\".format(end_day.strftime(\"%d/%m/%Y\")), fontsize=22)\n",
    "\n",
    "# machine name\n",
    "fig.text(0.01, 0.82, 'Machine: ' + machine, fontsize=20)\n",
    "\n",
    "im_machine_path = '{}/images/{}.png'.format(os.getcwd(), machine.lower().replace(' ', '')).replace('/', '\\\\')\n",
    "im_machine = plt.imread(get_sample_data(im_machine_path))\n",
    "im_machine_ax = fig.add_axes([0.40, 0.81, 0.22, 0.05], anchor='NE', zorder=-1)\n",
    "im_machine_ax.imshow(im_machine)\n",
    "im_machine_ax.axis('off')\n",
    "\n",
    "## draw the logo\n",
    "im_logo_path = '{}/images/logo_transp.png'.format(os.getcwd()).replace('/', '\\\\')\n",
    "im_log = plt.imread(get_sample_data(im_logo_path))\n",
    "im_logo_ax = fig.add_axes([0.00, 0.86, 0.60, 0.13], anchor='NE', zorder=-1)\n",
    "im_logo_ax.imshow(im_log)\n",
    "im_logo_ax.axis('off')\n",
    "\n",
    "fig.savefig('output_{}.pdf'.format(machine.lower().replace(' ', '')), orientation='portrait',\n",
    "            papertype='a4', format='pdf')\n",
    "plt.show()"
   ]
  },
  {
   "cell_type": "markdown",
   "metadata": {},
   "source": [
    "### Create the schedule"
   ]
  },
  {
   "cell_type": "code",
   "execution_count": null,
   "metadata": {},
   "outputs": [],
   "source": [
    "set(df['Machine'])"
   ]
  },
  {
   "cell_type": "code",
   "execution_count": null,
   "metadata": {
    "scrolled": false
   },
   "outputs": [],
   "source": [
    "from matplotlib.patches import FancyBboxPatch, Rectangle\n",
    "from random import random\n",
    "\n",
    "study_box_w = 0.6\n",
    "\n",
    "#for machine in set(df['Machine']):\n",
    "for machine in ['Discovery']:\n",
    "#for machine in ['Intevo']:\n",
    "#for machine in ['Millennium']:\n",
    "#for machine in ['PET GE']:\n",
    "#for machine in ['PET Siemens']:\n",
    "\n",
    "    # create a matplotlib figure with the right aspect ratio\n",
    "    fig = plt.figure(figsize=[8.27, 11.69])\n",
    "\n",
    "\n",
    "    logging.debug(\"Creating schedule section\")\n",
    "\n",
    "    logging.debug(\"Creating schedule plot\")\n",
    "    sched_ax = fig.add_axes([0.00, 0.81, 0.82, 0.40], anchor='NE')\n",
    "\n",
    "    start_date = dt.strptime(config['main']['start_date'], '%Y-%m-%d')\n",
    "    end_date = dt.strptime(config['main']['end_date'], '%Y-%m-%d')\n",
    "    days_range = pd.date_range(start_date, end_date)\n",
    "    \n",
    "    days_xticks, days_xtick_labels = [], []\n",
    "    \n",
    "    for day in days_range:\n",
    "        day_str = day.strftime('%Y%m%d')\n",
    "        logging.debug('Plotting {}'.format(day_str))\n",
    "\n",
    "        df_day = df.query('Date == \"{}\" & Machine == \"{}\"'.format(day_str, machine))\n",
    "        i_day = (day - start_day).days + 1\n",
    "        logging.debug('Found {} studies in day {} (day number: {})'.format(len(df_day), day_str, i_day))\n",
    "        if len(df_day) == 0: continue\n",
    "\n",
    "        days_xticks.append(i_day)\n",
    "        days_xtick_labels.append(day.strftime('%d/%m'))\n",
    "            \n",
    "        i_study = 0\n",
    "        for ind in df_day.index:\n",
    "            study = df_day.loc[ind, :]\n",
    "            start = pd.to_datetime(study['Start Time'], format='%H%M%S')\n",
    "            start_hours = start.hour + start.minute / 60 + start.second / 3600\n",
    "            end = pd.to_datetime(study['End Time'], format='%H%M%S')\n",
    "            end_hours = end.hour + end.minute / 60 + end.second / 3600\n",
    "            duration_hours = end_hours - start_hours\n",
    "\n",
    "            if duration_hours <= 0:\n",
    "                logging.warning('Problem with study {} on day {}: end time is earlier than start time'.format(study.name, day_str))\n",
    "                continue\n",
    "\n",
    "            # get the start and stop times rounded to the minute\n",
    "            logging.debug('day {}, start {:5.2f} -> end {:5.2f}, duration: {:4.2f}'.format(day_str, start_hours, end_hours, duration_hours))\n",
    "\n",
    "            x = i_day - study_box_w * 0.5 + 0.05 * (-1 if (i_study % 2 == 0) else 1)\n",
    "            y = start_hours\n",
    "            w = study_box_w\n",
    "            h = duration_hours\n",
    "\n",
    "            rounded_rect = FancyBboxPatch((x, y), w, h, boxstyle=\"round,pad=-0.0040,rounding_size=0.155\", fc=\"red\", ec='black', mutation_aspect=0.4)\n",
    "            #rounded_rect = Rectangle((x, y), w, h, fc=\"red\", ec='black')\n",
    "            sched_ax.add_patch(rounded_rect)\n",
    "\n",
    "            i_study += 1\n",
    "\n",
    "    plt.xlim((0.5, 12.5))\n",
    "    plt.ylim((7.5, 19.5))    \n",
    "    plt.xticks(days_xticks, days_xtick_labels)\n",
    "    plt.yticks(range(8,20), ['{:02d}h'.format(i) for i in range(8,20)])\n",
    "    \n",
    "    df_period = df.query('Date >= \"{}\" & Date <= \"{}\" & Machine == \"{}\"'.format(start_date.strftime('%Y%m%d'), end_date.strftime('%Y%m%d'), machine))\n",
    "    freq = '1min'\n",
    "    start_hour = '070000'\n",
    "    end_hour = '200000'\n",
    "    FMT = '%H%M%S'\n",
    "    time_range = pd.date_range(dt.strptime(start_hour, FMT), dt.strptime(end_hour, FMT), freq=freq)\n",
    "    df_counts = pd.DataFrame([0]*len(time_range), index=time_range, columns=['count'])\n",
    "    #display(df_counts)\n",
    "    for ind in df_period.index:\n",
    "        start = dt.strptime(df_period.loc[ind, 'Start Time'], FMT)\n",
    "        end = dt.strptime(df_period.loc[ind, 'End Time'], FMT)\n",
    "        for t in time_range:\n",
    "            logging.debug('Checking if time {} is in range of {} - {}'.format(t, start, end))\n",
    "            logging.debug(start <= t <= end)\n",
    "            if start <= t <= end: df_counts.loc[t, 'count'] += 1\n",
    "    #with pd.option_context('display.max_rows', 100): display(df_counts)\n",
    "    df_counts_resample = df_counts.resample('10min').mean()\n",
    "    \n",
    "    distr_ax = fig.add_axes([0.83, 0.81, 0.12, 0.40], anchor='NE')\n",
    "    counts_y_values = [t.hour + t.minute / 60 + t.second / 3600 for t in df_counts_resample.index]\n",
    "    plt.plot(df_counts_resample['count'], counts_y_values)\n",
    "    plt.ylim((7.5, 19.5))\n",
    "    plt.xticks([])\n",
    "    plt.yticks([])\n",
    "\n",
    "    logging.debug(\"Creating distribution plot\")\n",
    "\n",
    "    #fig.savefig('output.pdf', orientation='portrait', papertype='a4', format='pdf')\n",
    "    plt.show()"
   ]
  },
  {
   "cell_type": "markdown",
   "metadata": {},
   "source": [
    "### Create a time-based distribution"
   ]
  },
  {
   "cell_type": "code",
   "execution_count": null,
   "metadata": {
    "scrolled": false
   },
   "outputs": [],
   "source": [
    "df_period = df.query('Date >= \"{}\" & Date <= \"{}\" & Machine == \"{}\"'.format(start_date.strftime('%Y%m%d'), end_date.strftime('%Y%m%d'), machine))\n",
    "freq = '1min'\n",
    "start_hour = '080000'\n",
    "end_hour = '200000'\n",
    "FMT = '%H%M%S'\n",
    "time_range = pd.date_range(dt.strptime(start_hour, FMT), dt.strptime(end_hour, FMT), freq=freq)\n",
    "df_counts = pd.DataFrame([0]*len(time_range), index=time_range, columns=['count'])\n",
    "#display(df_counts)\n",
    "for ind in df_period.index:\n",
    "    start = dt.strptime(df_period.loc[ind, 'Start Time'], FMT)\n",
    "    end = dt.strptime(df_period.loc[ind, 'End Time'], FMT)\n",
    "    for t in time_range:\n",
    "        logging.debug('Checking if time {} is in range of {} - {}'.format(t, start, end))\n",
    "        logging.debug(start <= t <= end)\n",
    "        if start <= t <= end: df_counts.loc[t, 'count'] += 1\n",
    "#with pd.option_context('display.max_rows', 100): display(df_counts)\n",
    "df_counts_resample = df_counts.resample('10min').mean()"
   ]
  },
  {
   "cell_type": "code",
   "execution_count": null,
   "metadata": {},
   "outputs": [],
   "source": [
    "distr_ax = fig.add_axes([0.85, 0.81, 0.12, 0.40], anchor='NE')\n",
    "counts_y_values = [t.hour + t.minute / 60 + t.second / 3600 for t in df_counts_resample.index]\n",
    "plt.plot(df_counts_resample['count'], counts_y_values)"
   ]
  },
  {
   "cell_type": "code",
   "execution_count": null,
   "metadata": {},
   "outputs": [],
   "source": []
  },
  {
   "cell_type": "code",
   "execution_count": null,
   "metadata": {},
   "outputs": [],
   "source": []
  }
 ],
 "metadata": {
  "kernelspec": {
   "display_name": "Python 3",
   "language": "python",
   "name": "python3"
  },
  "language_info": {
   "codemirror_mode": {
    "name": "ipython",
    "version": 3
   },
   "file_extension": ".py",
   "mimetype": "text/x-python",
   "name": "python",
   "nbconvert_exporter": "python",
   "pygments_lexer": "ipython3",
   "version": "3.7.4"
  }
 },
 "nbformat": 4,
 "nbformat_minor": 2
}
