{
 "cells": [
  {
   "cell_type": "code",
   "execution_count": null,
   "metadata": {},
   "outputs": [],
   "source": [
    "import logging\n",
    "\n",
    "from IPython.core.display import display, HTML\n",
    "\n",
    "import os\n",
    "os.chdir('H:/Mes Documents/ServiceCivil2019/schedvisu')\n",
    "import sys\n",
    "sys.path.append('scripts')\n",
    "\n",
    "from scripts.main import load_config, get_day_range\n",
    "from retrieve_data import retrieve_and_save_data_from_PACS\n",
    "from extract_data import load_transform_and_save_data_from_files\n",
    "from create_report import create_report, get_report_type\n",
    "\n",
    "%load_ext autoreload\n",
    "%reload_ext autoreload\n",
    "%autoreload 2\n",
    "\n",
    "# set the width of the notebook\n",
    "display(HTML(\"<style>.container { width:95% !important; }</style>\"))"
   ]
  },
  {
   "cell_type": "markdown",
   "metadata": {},
   "source": [
    "###  Read in all the data files day by day and search for problems"
   ]
  },
  {
   "cell_type": "code",
   "execution_count": null,
   "metadata": {
    "scrolled": true
   },
   "outputs": [],
   "source": [
    "config = load_config()\n",
    "config['main']['start_date'] = '2019-12-02'\n",
    "config['main']['end_date'] = '2019-12-02'\n",
    "\n",
    "# get the date range from the config\n",
    "start_date = dt.strptime(config['main']['start_date'], '%Y-%m-%d')\n",
    "end_date = dt.strptime(config['main']['end_date'], '%Y-%m-%d')\n",
    "days_range = pd.date_range(start_date, end_date)\n",
    "\n",
    "# create the variable holding all the series for all days\n",
    "df_all_problems = None\n",
    "df_all_series = None\n",
    "\n",
    "# go through the date range day by day\n",
    "for day in days_range:\n",
    "\n",
    "    config['main']['start_date'] = day.strftime('%Y-%m-%d')\n",
    "    config['main']['end_date'] = day.strftime('%Y-%m-%d')\n",
    "    \n",
    "    df = load_data_from_files(config)\n",
    "    if df is None: continue\n",
    "    df_problem = df[\n",
    "            (df['Start Time'].isnull())\n",
    "            | (df['End Time'].isnull())\n",
    "            | (df['Machine'] == '')\n",
    "            | (df['Machine'].isnull())\n",
    "            | (df['Institution Name'] == '')\n",
    "            | (df['Institution Name'] == 'NONE')\n",
    "            | (df['Institution Name'].isnull())]\n",
    "    df_all_series = pd.concat([df_all_series, df], sort=False)\n",
    "    if len(df_problem) <= 0: continue\n",
    "    df_all_problems = pd.concat([df_all_problems, df_problem], sort=False)\n",
    "    logging.info('Current day: {}'.format(day.strftime('%Y-%m-%d')))\n",
    "    with pd.option_context(\"display.max_colwidth\", 1000): display(df_problem)\n",
    "    with pd.option_context(\"display.max_colwidth\", 1000): display(df[df['Series Instance UID'].isin(df_problem['Series Instance UID'])])"
   ]
  },
  {
   "cell_type": "code",
   "execution_count": null,
   "metadata": {},
   "outputs": [],
   "source": [
    "df[df['Patient ID'] == '62252']"
   ]
  },
  {
   "cell_type": "code",
   "execution_count": null,
   "metadata": {},
   "outputs": [],
   "source": [
    "df = df_all_series[~df_all_series.index.isin(df_all_problems.index)]\n",
    "df_all_problems[df_all_problems['Protocol Name'] == 'Shunt_Foie_PoumonNEW']"
   ]
  },
  {
   "cell_type": "code",
   "execution_count": null,
   "metadata": {},
   "outputs": [],
   "source": [
    "set(df['Institution Name'])"
   ]
  },
  {
   "cell_type": "code",
   "execution_count": null,
   "metadata": {},
   "outputs": [],
   "source": [
    "len(set(df['Study Instance UID']))"
   ]
  },
  {
   "cell_type": "code",
   "execution_count": null,
   "metadata": {},
   "outputs": [],
   "source": [
    "len(set(df['Series Instance UID']))"
   ]
  },
  {
   "cell_type": "code",
   "execution_count": null,
   "metadata": {},
   "outputs": [],
   "source": [
    "len(set(df['Patient ID']))"
   ]
  },
  {
   "cell_type": "code",
   "execution_count": null,
   "metadata": {},
   "outputs": [],
   "source": [
    "df[df['Institution Name'] == 'MEDECINE NUCLEAIRE']"
   ]
  },
  {
   "cell_type": "code",
   "execution_count": null,
   "metadata": {},
   "outputs": [],
   "source": []
  }
 ],
 "metadata": {
  "kernelspec": {
   "display_name": "Python 3",
   "language": "python",
   "name": "python3"
  },
  "language_info": {
   "codemirror_mode": {
    "name": "ipython",
    "version": 3
   },
   "file_extension": ".py",
   "mimetype": "text/x-python",
   "name": "python",
   "nbconvert_exporter": "python",
   "pygments_lexer": "ipython3",
   "version": "3.7.4"
  }
 },
 "nbformat": 4,
 "nbformat_minor": 2
}
