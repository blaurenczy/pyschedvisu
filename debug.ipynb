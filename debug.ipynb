{
 "cells": [
  {
   "cell_type": "code",
   "execution_count": null,
   "metadata": {},
   "outputs": [],
   "source": [
    "import logging\n",
    "\n",
    "from IPython.core.display import display, HTML\n",
    "\n",
    "from scripts.main import *\n",
    "from scripts.retrieve_data import *\n",
    "from scripts.extract_data import*\n",
    "\n",
    "%load_ext autoreload\n",
    "%reload_ext autoreload\n",
    "%autoreload 2\n",
    "\n",
    "# set the width of the notebook\n",
    "display(HTML(\"<style>.container { width:95% !important; }</style>\"))"
   ]
  },
  {
   "cell_type": "markdown",
   "metadata": {},
   "source": [
    "###  Read in all the data files day by day and search for problems"
   ]
  },
  {
   "cell_type": "code",
   "execution_count": null,
   "metadata": {},
   "outputs": [],
   "source": [
    "config = load_config()\n",
    "\n",
    "# get the date range from the config\n",
    "start_date = dt.strptime(config['main']['start_date'], '%Y-%m-%d')\n",
    "end_date = dt.strptime(config['main']['end_date'], '%Y-%m-%d')\n",
    "days_range = pd.date_range(start_date, end_date)\n",
    "\n",
    "# create the variable holding all the series for all days\n",
    "df_series = None\n",
    "\n",
    "# go through the date range day by day\n",
    "for day in days_range:\n",
    "\n",
    "    config['main']['start_date'] = day.strftime('%Y-%m-%d')\n",
    "    config['main']['end_date'] = day.strftime('%Y-%m-%d')\n",
    "    \n",
    "    df = extract_transform_and_save_data_from_files(config)\n",
    "    if df is None: continue\n",
    "    df_problem = df[\n",
    "            (df['Start Time'].isnull())\n",
    "            | (df['End Time'].isnull())\n",
    "            | (df['Machine'] == '')\n",
    "            | (df['Machine'].isnull())\n",
    "            | (df['Institution Name'] == '')\n",
    "            | (df['Institution Name'].isnull())]\n",
    "    if len(df_problem) <= 0: continue\n",
    "    logging.info('Current day: {}'.format(day.strftime('%Y-%m-%d')))\n",
    "    with pd.option_context(\"display.max_colwidth\", 1000): display(df_problem)\n",
    "    with pd.option_context(\"display.max_colwidth\", 1000): display(df[df['Series Instance UID'].isin(df_problem['Series Instance UID'])])"
   ]
  },
  {
   "cell_type": "code",
   "execution_count": null,
   "metadata": {},
   "outputs": [],
   "source": []
  },
  {
   "cell_type": "code",
   "execution_count": null,
   "metadata": {},
   "outputs": [],
   "source": []
  }
 ],
 "metadata": {
  "kernelspec": {
   "display_name": "Python 3",
   "language": "python",
   "name": "python3"
  },
  "language_info": {
   "codemirror_mode": {
    "name": "ipython",
    "version": 3
   },
   "file_extension": ".py",
   "mimetype": "text/x-python",
   "name": "python",
   "nbconvert_exporter": "python",
   "pygments_lexer": "ipython3",
   "version": "3.7.4"
  }
 },
 "nbformat": 4,
 "nbformat_minor": 2
}
