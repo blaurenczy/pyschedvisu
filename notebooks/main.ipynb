{
 "cells": [
  {
   "cell_type": "markdown",
   "metadata": {},
   "source": [
    "### Imports"
   ]
  },
  {
   "cell_type": "code",
   "execution_count": null,
   "metadata": {},
   "outputs": [],
   "source": [
    "import logging\n",
    "import time\n",
    "from copy import deepcopy\n",
    "\n",
    "from IPython.core.display import display, HTML\n",
    "\n",
    "import os\n",
    "os.chdir('H:/Mes Documents/ServiceCivil2019/schedvisu')\n",
    "import sys\n",
    "sys.path.append('scripts')\n",
    "\n",
    "from main import create_logger, load_config, run_pipeline, run\n",
    "\n",
    "%load_ext autoreload\n",
    "%reload_ext autoreload\n",
    "%autoreload 2\n",
    "\n",
    "# set the width of the notebook\n",
    "display(HTML(\"<style>.container { width:95% !important; }</style>\"))"
   ]
  },
  {
   "cell_type": "markdown",
   "metadata": {},
   "source": [
    "###  Run the whole pipeline"
   ]
  },
  {
   "cell_type": "code",
   "execution_count": null,
   "metadata": {
    "scrolled": false
   },
   "outputs": [],
   "source": [
    "run()\n",
    "logging.shutdown()"
   ]
  },
  {
   "cell_type": "markdown",
   "metadata": {},
   "source": [
    "###  Run the whole pipeline for 4 years, starting by 2019"
   ]
  },
  {
   "cell_type": "code",
   "execution_count": null,
   "metadata": {
    "scrolled": true
   },
   "outputs": [],
   "source": [
    "date_ranges = [\n",
    "    {'start': '20190101', 'end': '20191213'},\n",
    "    {'start': '20180101', 'end': '20181231'},\n",
    "    {'start': '20170101', 'end': '20171231'},\n",
    "    {'start': '20160101', 'end': '20161231'}\n",
    "]\n",
    "\n",
    "config = load_config()\n",
    "for date_range in date_ranges:\n",
    "    try:\n",
    "        create_logger()\n",
    "        local_config = deepcopy(config)\n",
    "        local_config['main']['start_date'] = date_range['start']\n",
    "        local_config['main']['end_date'] = date_range['end']\n",
    "        run_pipeline(local_config)\n",
    "\n",
    "    except Exception as e:\n",
    "        logging.error('Error while running workflow')\n",
    "        logging.error(\"-\"*60)\n",
    "        logging.error(e, exc_info=True)\n",
    "        logging.error(\"-\"*60)\n",
    "\n",
    "    except KeyboardInterrupt:\n",
    "        logging.error('Interrupted by user')\n",
    "\n",
    "    finally:\n",
    "        logging.shutdown()\n",
    "        time.sleep(1)"
   ]
  },
  {
   "cell_type": "markdown",
   "metadata": {},
   "source": [
    "### Close the logging"
   ]
  },
  {
   "cell_type": "code",
   "execution_count": null,
   "metadata": {},
   "outputs": [],
   "source": [
    "logging.shutdown()"
   ]
  },
  {
   "cell_type": "markdown",
   "metadata": {},
   "source": [
    "### Run the pipeline two weeks by two weeks"
   ]
  },
  {
   "cell_type": "code",
   "execution_count": null,
   "metadata": {},
   "outputs": [],
   "source": [
    "now_str = dt.now().strftime('%Y-%m-%d_%Hh%Mm%Ss')"
   ]
  },
  {
   "cell_type": "code",
   "execution_count": null,
   "metadata": {},
   "outputs": [],
   "source": [
    "start_date = dt(2019, 12, 15)\n",
    "\n",
    "prev_friday = start_date - timedelta(days=start_date.weekday() - 4)\n",
    "if prev_friday > start_date: prev_friday = prev_friday - timedelta(days=7)\n",
    "previous_monday_1W = prev_friday - timedelta(days=5)\n",
    "previous_monday_2W = prev_friday - timedelta(days= 5 +  1 * 7 - 1)\n",
    "previous_monday_4W = prev_friday - timedelta(days= 5 +  3 * 7 - 1)\n",
    "previous_monday_3M = prev_friday - timedelta(days= 5 + 11 * 7 - 1)\n",
    "previous_monday_6M = prev_friday - timedelta(days= 5 + 23 * 7 - 1)\n",
    "previous_monday_1Y = prev_friday.replace(day=1).replace(month=1)\n",
    "\n",
    "date_ranges = [\n",
    "    { 'start': previous_monday_1W.strftime('%Y%m%d'), 'end': prev_friday.strftime('%Y%m%d') },\n",
    "    { 'start': previous_monday_2W.strftime('%Y%m%d'), 'end': prev_friday.strftime('%Y%m%d') },\n",
    "    { 'start': previous_monday_4W.strftime('%Y%m%d'), 'end': prev_friday.strftime('%Y%m%d') },\n",
    "    { 'start': previous_monday_3M.strftime('%Y%m%d'), 'end': prev_friday.strftime('%Y%m%d') },\n",
    "    { 'start': previous_monday_6M.strftime('%Y%m%d'), 'end': prev_friday.strftime('%Y%m%d') },\n",
    "    { 'start': previous_monday_1Y.strftime('%Y%m%d'), 'end': prev_friday.strftime('%Y%m%d') }\n",
    "]\n",
    "\n",
    "date_ranges"
   ]
  },
  {
   "cell_type": "code",
   "execution_count": null,
   "metadata": {
    "scrolled": false
   },
   "outputs": [],
   "source": [
    "import pandas as pd\n",
    "from datetime import datetime as dt\n",
    "from datetime import timedelta\n",
    "\n",
    "start_dt = dt(2019, 9, 23)\n",
    "end_dt = dt(2019, 12, 13)\n",
    "\n",
    "date_ranges = [{\n",
    "    'start': start.strftime('%Y%m%d'),\n",
    "    'end': (start + timedelta(days=11)).strftime('%Y%m%d') }\n",
    "    for start in pd.date_range(start_dt, end_dt, freq='2W-MON')]\n",
    "\n",
    "config = load_config()\n",
    "for date_range in date_ranges:\n",
    "    try:\n",
    "        create_logger()\n",
    "        local_config = deepcopy(config)\n",
    "        local_config['main']['start_date'] = date_range['start']\n",
    "        local_config['main']['end_date'] = date_range['end']\n",
    "        run_pipeline(local_config)\n",
    "\n",
    "    except Exception as e:\n",
    "        logging.error('Error while running workflow')\n",
    "        logging.error(\"-\"*60)\n",
    "        logging.error(e, exc_info=True)\n",
    "        logging.error(\"-\"*60)\n",
    "\n",
    "    except KeyboardInterrupt:\n",
    "        logging.error('Interrupted by user')\n",
    "\n",
    "    finally:\n",
    "        logging.shutdown()\n",
    "        time.sleep(1)"
   ]
  }
 ],
 "metadata": {
  "kernelspec": {
   "display_name": "Python 3",
   "language": "python",
   "name": "python3"
  },
  "language_info": {
   "codemirror_mode": {
    "name": "ipython",
    "version": 3
   },
   "file_extension": ".py",
   "mimetype": "text/x-python",
   "name": "python",
   "nbconvert_exporter": "python",
   "pygments_lexer": "ipython3",
   "version": "3.7.4"
  }
 },
 "nbformat": 4,
 "nbformat_minor": 2
}
