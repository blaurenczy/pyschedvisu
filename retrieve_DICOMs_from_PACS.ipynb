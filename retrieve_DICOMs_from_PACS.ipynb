{
 "cells": [
  {
   "cell_type": "markdown",
   "metadata": {},
   "source": [
    "Tests for retrieving data from PACS\n",
    "--"
   ]
  },
  {
   "cell_type": "markdown",
   "metadata": {},
   "source": [
    "Imports\n",
    "--"
   ]
  },
  {
   "cell_type": "code",
   "execution_count": null,
   "metadata": {},
   "outputs": [],
   "source": [
    "import logging\n",
    "import configparser\n",
    "import pandas as pd\n",
    "\n",
    "from datetime import datetime as dt\n",
    "\n",
    "from IPython.core import display as ICD\n",
    "\n",
    "from pydicom.dataset import Dataset\n",
    "\n",
    "from scripts.run_all import run_all\n",
    "from scripts.retrieve_data_from_PACS import find_data, get_data, create_dataset_from_dataframe_row\n",
    "\n",
    "#from pynetdicom import debug_logger\n",
    "#debug_logger()\n",
    "\n",
    "pd.set_option('display.max_colwidth', -1)\n",
    "\n",
    "%load_ext autoreload\n",
    "%reload_ext autoreload\n",
    "%autoreload 2"
   ]
  },
  {
   "cell_type": "markdown",
   "metadata": {},
   "source": [
    "Set the logger of the pynetdicom module to ERROR, to avoid logs"
   ]
  },
  {
   "cell_type": "code",
   "execution_count": null,
   "metadata": {},
   "outputs": [],
   "source": [
    "logging.getLogger('pynetdicom').setLevel(logging.ERROR)"
   ]
  },
  {
   "cell_type": "markdown",
   "metadata": {},
   "source": [
    "Initialize the \"config\" object\n",
    "--"
   ]
  },
  {
   "cell_type": "code",
   "execution_count": null,
   "metadata": {},
   "outputs": [],
   "source": []
  },
  {
   "cell_type": "code",
   "execution_count": null,
   "metadata": {
    "scrolled": false
   },
   "outputs": [],
   "source": [
    "config = run_all()"
   ]
  },
  {
   "cell_type": "markdown",
   "metadata": {},
   "source": [
    "Get all studies for a day\n",
    "--"
   ]
  },
  {
   "cell_type": "code",
   "execution_count": null,
   "metadata": {
    "scrolled": false
   },
   "outputs": [],
   "source": [
    "to_drop_columns = ['Query/Retrieve Level', 'Retrieve AE Title', 'Type of Patient ID', 'Issuer of Patient ID']\n",
    "\n",
    "# create the query dataset\n",
    "query_ds = Dataset()\n",
    "# parameters for filtering\n",
    "query_ds.QueryRetrieveLevel = 'STUDY'\n",
    "query_ds.StudyDate  = '20190806'\n",
    "query_ds.ModalitiesInStudy = 'PT'\n",
    "# parameters to fetch\n",
    "query_ds.StudyTime  = ''\n",
    "query_ds.StudyInstanceUID = ''\n",
    "query_ds.PatientID = ''\n",
    "query_ds.StudyDescription = ''\n",
    "query_ds.InstitutionName = ''\n",
    "query_ds.ReferringPhysicianName = ''\n",
    "# display the query dataset\n",
    "logging.info('Query Dataset:')\n",
    "for s in str(query_ds).split('\\n'): logging.info('    ' + s)\n",
    "\n",
    "# do the query (C-FIND)\n",
    "df_all_studies = find_data(config, query_ds)\n",
    "\n",
    "# drop unwanted columns and display\n",
    "df_all_studies = df_all_studies.drop(to_drop_columns, axis=1)\n",
    "df_all_studies"
   ]
  },
  {
   "cell_type": "markdown",
   "metadata": {},
   "source": [
    "Get a summary of the possible physician names\n",
    "--"
   ]
  },
  {
   "cell_type": "code",
   "execution_count": null,
   "metadata": {
    "scrolled": true
   },
   "outputs": [],
   "source": [
    "count_phys_name = df_all_studies.groupby(\"Referring Physician's Name\")[\"Referring Physician's Name\"].count()\n",
    "count_phys_name['None'] = len(df_all_studies[df_all_studies[\"Referring Physician's Name\"].isnull()])\n",
    "count_phys_name"
   ]
  },
  {
   "cell_type": "markdown",
   "metadata": {},
   "source": [
    "Get all series for the found studies\n",
    "--"
   ]
  },
  {
   "cell_type": "code",
   "execution_count": null,
   "metadata": {
    "scrolled": true
   },
   "outputs": [],
   "source": [
    "series_level_filters = ['Study Date', 'Patient ID']\n",
    "to_drop_columns = ['Query/Retrieve Level', 'Retrieve AE Title', 'Type of Patient ID', 'Issuer of Patient ID']\n",
    "sort_columns = ['Series Time', 'Number of Series Related Instances']\n",
    "\n",
    "#for i_study in range(len(df_all_studies)):\n",
    "for i_study in range(1):\n",
    "    logging.info('DataFrame row:\\n' + str(df_all_studies.loc[i_study, :]))\n",
    "    \n",
    "    # create the query dataset\n",
    "    query_ds = create_dataset_from_dataframe_row(df_all_studies.loc[i_study, :], 'SERIES', incl=series_level_filters)\n",
    "    # parameters for filtering\n",
    "    query_ds.SeriesDate = ds.StudyDate\n",
    "    query_ds.Modality = 'PT'\n",
    "    # parameters to fetch\n",
    "    query_ds.SeriesInstanceUID = ''\n",
    "    query_ds.StudyInstanceUID = ''\n",
    "    query_ds.SeriesTime = ''\n",
    "    query_ds.StudyTime  = ''\n",
    "    query_ds.NumberOfSeriesRelatedInstances = ''\n",
    "    query_ds.SeriesDescription = ''\n",
    "    # display the query dataset\n",
    "    logging.info('Query Dataset:')\n",
    "    for s in str(query_ds).split('\\n'): logging.info('    ' + s)\n",
    "    \n",
    "    # do the query (C-FIND)\n",
    "    df_series = find_data(config, query_ds)\n",
    "    \n",
    "    # drop unwanted columns, sort and display\n",
    "    df_series = df_series.drop(to_drop_columns, axis=1)\n",
    "    df_series.sort_values(sort_columns, inplace=True)\n",
    "    ICD.display(df_series)"
   ]
  },
  {
   "cell_type": "markdown",
   "metadata": {},
   "source": [
    "Go through each Series and get the first and last slice\n",
    "--"
   ]
  },
  {
   "cell_type": "code",
   "execution_count": null,
   "metadata": {
    "scrolled": true
   },
   "outputs": [],
   "source": [
    "# create a copy of the Dataframe to be updated with the fetched values\n",
    "df_series_updated = df_series.copy()\n",
    "\n",
    "image_level_filters = ['Patient ID', 'Study Date', 'Series Instance UID', 'Modality']\n",
    "to_fetch_params = ['StudyDescription', 'PatientID', 'InstitutionName', '0x07a31023', 'ReferringPhysicianName',\n",
    "                        'SOPClassUID', 'ManufacturerModelName', 'InstanceNumber', 'ContentTime',\n",
    "                        'AcquisitionTime', 'ActualFrameDuration', 'NumberOfSlices']\n",
    "\n",
    "# go through each Serie\n",
    "for i_serie in range(len(df_series)):\n",
    "    \n",
    "    logging.info('{}/{}: [{}|{}|{}|PID:{}|:{}]'.format(i_serie, len(df_series), *df_series.loc[i_serie,\n",
    "                ['Study Date', 'Series Time', 'Modality', 'Patient ID', 'Series Instance UID']]))\n",
    "    \n",
    "    # create the query dataset\n",
    "    query_ds = create_dataset_from_dataframe_row(df_series.loc[i_serie, :], 'IMAGE', incl=image_level_filters)\n",
    "    # add some more filters\n",
    "    query_ds.InstanceNumber = ['1', df_series.loc[i_serie, 'Number of Series Related Instances']]\n",
    "    # display the Dataset\n",
    "    logging.debug('Query Dataset:')\n",
    "    for s in str(query_ds).split('\\n'): logging.debug('    ' + s)\n",
    "\n",
    "    # fetch the data (C-MOVE)\n",
    "    df, _ = get_data(config, query_ds, to_fetch_params)\n",
    "    df.reset_index(drop=True, inplace=True)\n",
    "    \n",
    "    # if no data is found, skip with error\n",
    "    if len(df) == 0:\n",
    "        logging.error('  ERROR, no data found.')\n",
    "        continue\n",
    "        \"\"\"\n",
    "        logging.error('  Problem, trying alternative indices')\n",
    "        # try with a different index\n",
    "        query_ds.InstanceNumber = ['2001', str(2000 + int(df_series.loc[i_serie, 'Number of Series Related Instances']))]\n",
    "        # fetch the data (C-MOVE)\n",
    "        df, _ = get_data(config, query_ds, to_fetch_params)\n",
    "        df.reset_index(drop=True, inplace=True)\n",
    "        # if no data is found, skip with error\n",
    "        if len(df) == 0:\n",
    "            logging.error('  ERROR, no data found.')\n",
    "            continue\n",
    "        \"\"\"\n",
    "    # if there is only one row, duplicate it\n",
    "    elif len(df) == 1:\n",
    "        df.loc[1, :] = df.loc[0, :]\n",
    "    # if there are too many rows, skip with error\n",
    "    elif len(df) > 2:\n",
    "        logging.error('  ERROR, too many rows found ({}).'.format(len(df)))\n",
    "        continue\n",
    "       \n",
    "    # copy the relevant parameters into the main DataFrame\n",
    "    #df_series_updated.loc[i_serie, 'Content Time Start']     = df.loc[0, 'ContentTime']\n",
    "    #df_series_updated.loc[i_serie, 'Content Time End']       = df.loc[1, 'ContentTime']\n",
    "    df_series_updated.loc[i_serie, 'Acquisition Time Start'] = df.loc[0, 'AcquisitionTime']\n",
    "    df_series_updated.loc[i_serie, 'Acquisition Time End']   = df.loc[1, 'AcquisitionTime']\n",
    "    df_series_updated.loc[i_serie, 'Manufacturer Model Name']  = df.loc[0, 'ManufacturerModelName']\n",
    "    df_series_updated.loc[i_serie, 'Actual Frame Duration']  = df.loc[0, 'ActualFrameDuration']\n",
    "    df_series_updated.loc[i_serie, 'Number of Slices']  = df.loc[0, 'NumberOfSlices']\n",
    "    #df_series_updated.loc[i_serie, '0x07a31023']  = df.loc[0, '0x07a31023']\n",
    "    #df_series_updated.loc[i_serie, 'SOP Class UID']  = df.loc[0, 'SOPClassUID']\n",
    "    \n",
    "df_series_updated"
   ]
  },
  {
   "cell_type": "code",
   "execution_count": null,
   "metadata": {
    "scrolled": true
   },
   "outputs": [],
   "source": [
    "['2001', str(2000 + int(df_series.loc[i_serie, 'Number of Series Related Instances']))]"
   ]
  },
  {
   "cell_type": "markdown",
   "metadata": {},
   "source": [
    "Trying to understand times\n",
    "--"
   ]
  },
  {
   "cell_type": "code",
   "execution_count": null,
   "metadata": {},
   "outputs": [],
   "source": [
    "df_same_times = df_series_updated[df_series_updated['Acquisition Time Start'] == df_series_updated['Acquisition Time End']]\n",
    "#ICD.display(df_same_times)\n",
    "df_diff_times = df_series_updated[df_series_updated['Acquisition Time Start'] != df_series_updated['Acquisition Time End']]\n",
    "#ICD.display(df_diff_times)\n",
    "\n",
    "start_stop_ranges = []\n",
    "for i_serie in range(len(df_series_updated)):\n",
    "    if str(df_series_updated.loc[i_serie, 'Acquisition Time Start']) == 'nan': continue\n",
    "    start_stop_range = '{}-{}'.format(int(df_series_updated.loc[i_serie, 'Acquisition Time Start'].split('.')[0]),\n",
    "                                      df_series_updated.loc[i_serie, 'Acquisition Time End'].split('.')[0])\n",
    "    if start_stop_range not in start_stop_ranges:\n",
    "        start_stop_ranges.append(start_stop_range)\n",
    "      \n",
    "start_stop_ranges.sort()\n",
    "for r in start_stop_ranges: logging.info(r)"
   ]
  },
  {
   "cell_type": "markdown",
   "metadata": {},
   "source": [
    "Get all series for a day\n",
    "--"
   ]
  },
  {
   "cell_type": "code",
   "execution_count": null,
   "metadata": {
    "scrolled": true
   },
   "outputs": [],
   "source": [
    "query_ds = Dataset()\n",
    "\n",
    "# parameters for filtering\n",
    "query_ds.QueryRetrieveLevel = 'SERIES'\n",
    "#query_ds.StudyDate  = '20190805-20190809'\n",
    "query_ds.StudyDate  = '20190805'\n",
    "query_ds.Modality = 'PT'\n",
    "#query_ds.Modality = ['PT', 'CT']\n",
    "#query_ds.Modality = ['PT', 'NM']\n",
    "\n",
    "# parameters to fetch\n",
    "query_ds.StudyTime  = ''\n",
    "query_ds.StudyInstanceUID = ''\n",
    "query_ds.SeriesTime = ''\n",
    "query_ds.SeriesInstanceUID = ''\n",
    "query_ds.PatientID = ''\n",
    "query_ds.NumberOfSeriesRelatedInstances = ''\n",
    "query_ds.StudyDescription = ''\n",
    "query_ds.InstitutionName = ''\n",
    "query_ds.ReferringPhysicianName = ''\n",
    "\n",
    "# display Dataset\n",
    "logging.info('Query Dataset:')\n",
    "for s in str(query_ds).split('\\n'): logging.info('    ' + s)\n",
    "\n",
    "# do the query (C-FIND)\n",
    "df_all_series = find_data(config, query_ds)\n",
    "\n",
    "# drop unwanted columns\n",
    "df_all_series = df_all_series.drop(['Query/Retrieve Level', 'Retrieve AE Title',\n",
    "                                    'Issuer of Patient ID', 'Type of Patient ID'],\n",
    "                                   axis=1)\n",
    "df_all_series['Number of Series Related Instances'] = df_all_series['Number of Series Related Instances'].astype(int)\n",
    "df_all_series"
   ]
  },
  {
   "cell_type": "markdown",
   "metadata": {},
   "source": [
    "Get a summary of the possible institution names\n",
    "--"
   ]
  },
  {
   "cell_type": "code",
   "execution_count": null,
   "metadata": {
    "scrolled": false
   },
   "outputs": [],
   "source": [
    "count_inst_name = df_all_series.groupby('Institution Name')['Institution Name'].count()\n",
    "count_inst_name['None'] = len(df_all_series[df_all_series['Institution Name'].isnull()])\n",
    "count_inst_name"
   ]
  },
  {
   "cell_type": "markdown",
   "metadata": {},
   "source": [
    "Get a summary of the possible physician names\n",
    "--"
   ]
  },
  {
   "cell_type": "code",
   "execution_count": null,
   "metadata": {
    "scrolled": false
   },
   "outputs": [],
   "source": [
    "count_phys_name = df_all_series.groupby(\"Referring Physician's Name\")[\"Referring Physician's Name\"].count()\n",
    "count_phys_name['None'] = len(df_all_series[df_all_series[\"Referring Physician's Name\"].isnull()])\n",
    "count_phys_name"
   ]
  },
  {
   "cell_type": "markdown",
   "metadata": {},
   "source": [
    "Check the PT vs CT distribution in each institution\n",
    "--"
   ]
  },
  {
   "cell_type": "code",
   "execution_count": null,
   "metadata": {},
   "outputs": [],
   "source": [
    "for inst_name in count_inst_name.keys():\n",
    "    df_inst_name = df_all_series[df_all_series['Institution Name'] == inst_name]\n",
    "    count_modality = df_inst_name.groupby('Modality')['Modality'].count()\n",
    "    count_PT = str(count_modality.get('PT'))\n",
    "    if count_PT == 'None': count_PT = '-'\n",
    "    count_CT = str(count_modality.get('CT'))\n",
    "    if count_CT == 'None': count_CT = '-'\n",
    "    logging.info('{:40s}: CT ={:>3s}, PT ={:>3s}'.format(inst_name, count_CT, count_PT))"
   ]
  },
  {
   "cell_type": "markdown",
   "metadata": {},
   "source": [
    "Check why some series have no institution name\n",
    "--"
   ]
  },
  {
   "cell_type": "code",
   "execution_count": null,
   "metadata": {},
   "outputs": [],
   "source": [
    "start_times = df_series_updated['Study Time'].astype(float)\n",
    "logging.info(start_times)\n",
    "frame_dur = df_series_updated['Actual Frame Duration'].astype(float)\n",
    "logging.info(frame_dur)\n",
    "frame_dur = df_series_updated['Actual Frame Duration'].astype(float)\n",
    "logging.info(frame_dur)"
   ]
  },
  {
   "cell_type": "code",
   "execution_count": null,
   "metadata": {
    "scrolled": true
   },
   "outputs": [],
   "source": [
    "df_null_inst_name = df_all_series[df_all_series['Institution Name'].isnull()].reset_index(drop=True)\n",
    "#df_null_inst_name = df_all_series[df_all_series['Institution Name'] == 'PET CT CHUV'].reset_index(drop=True)\n",
    "#ICD.display(df_null_inst_name)\n",
    "ds = create_dataset_from_dataframe_row(df_null_inst_name.loc[4,:],\n",
    "                                       exclude_columns=['Study Description', 'Number of Series Related Instances'])\n",
    "ds.QueryRetrieveLevel = 'IMAGE'\n",
    "to_fetch_param_names = ['StudyDescription', 'PatientID', 'InstitutionName', '0x07a31023', 'ReferringPhysicianName',\n",
    "                        'SOPClassUID', 'Manufacturer', 'ManufacturerModelName',\n",
    "                        'InstanceNumber', 'ContentTime', 'AcquisitionTime', 'ActualFrameDuration', 'NumberOfSlices', \n",
    "                        'PerformedProcedureStepStartDate', 'PerformedProcedureStepStartTime', \n",
    "                        'PerformedProcedureStepEndDate', 'PerformedProcedureStepEndTime',\n",
    "                        'ImagesInAcquisition', 'NumberOfFrames']\n",
    "\n",
    "df, datasets = get_data(config, ds, to_fetch_param_names)\n",
    "ICD.display(df)\n",
    "\n",
    "ds = create_dataset_from_dataframe_row(df_null_inst_name.loc[10,:],\n",
    "                                       exclude_columns=['Study Description', 'Number of Series Related Instances'])\n",
    "ds.QueryRetrieveLevel = 'IMAGE'\n",
    "df, datasets = get_data(config, ds, to_fetch_param_names)\n",
    "ICD.display(df)"
   ]
  },
  {
   "cell_type": "markdown",
   "metadata": {},
   "source": [
    "Apparently, these are weird images starting with InstanceNumber 2001 or such, having no other information (AcquisitionTime, NumberOfSlices, etc.), even though they have a ContentTime. So it might be okay to leave them out."
   ]
  },
  {
   "cell_type": "markdown",
   "metadata": {},
   "source": [
    "Refine the data set based on the \"Institution Name\" and the \"Patient ID\"\n",
    "--"
   ]
  },
  {
   "cell_type": "code",
   "execution_count": null,
   "metadata": {},
   "outputs": [],
   "source": [
    "accepted_inst_names = ['chuv', 'chuvlausanne', 'centrehospitalieruniversitairevaudois', 'petctchuv',\n",
    "                       'medecinenucleairechuvlausanne']\n",
    "df_all_series['Short Institution Name'] = df_all_series['Institution Name'].str.lower().apply(lambda s: str(s).replace(' ', ''))\n",
    "df_series = df_all_series[df_all_series['Short Institution Name'].isin(accepted_inst_names)]\n",
    "df_series = df_series[df_series['Patient ID'].str.match('^\\d+$')].reset_index(drop=True)\n",
    "df_series\n",
    "count_inst_name = df_series.groupby('Institution Name')['Institution Name'].count()\n",
    "count_inst_name['None'] = len(df_series[df_series['Institution Name'].isnull()])\n",
    "count_inst_name"
   ]
  },
  {
   "cell_type": "markdown",
   "metadata": {},
   "source": [
    "Go through each Series and get more info\n",
    "--"
   ]
  },
  {
   "cell_type": "code",
   "execution_count": null,
   "metadata": {},
   "outputs": [],
   "source": [
    "df_series_updated = df_series.copy()\n",
    "\n",
    "# go through each Serie\n",
    "#for i_serie in range(len(df_series)):\n",
    "for i_serie in range(0, 20):\n",
    "    \n",
    "    logging.info('{}/{}: [{}|{}|{}|PID:{}|:{}]'.format(i_serie, len(df_series), *df_series.loc[i_serie,\n",
    "                ['Study Date', 'Series Time', 'Modality', 'Patient ID', 'Series Instance UID']]))\n",
    "    query_ds = Dataset()\n",
    "    # set all the parameters for filtering\n",
    "    for col in df_series.columns:\n",
    "        col_name = col.title().replace(' ', '').replace('Uid', 'UID')\n",
    "        value = df_series.loc[i_serie, col]\n",
    "        # avoid NaNs\n",
    "        if str(value) == 'nan': value = ''\n",
    "        logging.debug('Setting \"{}\" (\"{}\") to \"{}\" (type: \"{}\")'.format(col, col_name, value, type(value)))\n",
    "        setattr(query_ds, col_name, value)\n",
    "        \n",
    "    # set the specific filtering parameters\n",
    "    query_ds.QueryRetrieveLevel = 'IMAGE'\n",
    "    query_ds.InstanceNumber = ['1', df_series.loc[i_serie, 'Number of Series Related Instances']]\n",
    "    # display the Dataset\n",
    "    logging.debug('Query Dataset:')\n",
    "    for s in str(query_ds).split('\\n'): logging.debug('    ' + s)\n",
    "\n",
    "    # fetch the data (C-MOVE)\n",
    "    to_fetch_param_names = ['ManufacturerModelName', 'InstanceNumber', 'ContentTime',\n",
    "                            'AcquisitionTime', 'ActualFrameDuration', 'NumberOfSlices', \n",
    "                           '0x07a31023', 'SOPClassUID' ]\n",
    "    df, _ = get_data(config, query_ds, to_fetch_param_names)\n",
    "    df.reset_index(drop=True, inplace=True)\n",
    "    # if no data is found, skip with error\n",
    "    if len(df) == 0:\n",
    "        logging.error('  Problem, no data found.')\n",
    "        continue\n",
    "    # if there is only one row, duplicate it\n",
    "    elif len(df) == 1:\n",
    "        df.loc[1, :] = df.loc[0, :]\n",
    "    # if there are too many rows, skip with error\n",
    "    elif len(df) > 2:\n",
    "        logging.error('  Problem, too many rows found ({}).'.format(len(df)))\n",
    "        continue\n",
    "       \n",
    "    # copy the relevant parameters into the main DataFrame\n",
    "    df_series_updated.loc[i_serie, 'Content Time Start']     = df.loc[0, 'ContentTime']\n",
    "    df_series_updated.loc[i_serie, 'Content Time End']       = df.loc[1, 'ContentTime']\n",
    "    df_series_updated.loc[i_serie, 'Acquisition Time Start'] = df.loc[0, 'AcquisitionTime']\n",
    "    df_series_updated.loc[i_serie, 'Acquisition Time End']   = df.loc[1, 'AcquisitionTime']\n",
    "    df_series_updated.loc[i_serie, 'Manufacturer Model Name']  = df.loc[0, 'ManufacturerModelName']\n",
    "    df_series_updated.loc[i_serie, 'Actual Frame Duration']  = df.loc[0, 'ActualFrameDuration']\n",
    "    df_series_updated.loc[i_serie, 'Number of Slices']  = df.loc[0, 'NumberOfSlices']\n",
    "    df_series_updated.loc[i_serie, '0x07a31023']  = df.loc[0, '0x07a31023']\n",
    "    df_series_updated.loc[i_serie, 'SOP Class UID']  = df.loc[0, 'SOPClassUID']\n",
    "    \n",
    "df_series_updated"
   ]
  },
  {
   "cell_type": "code",
   "execution_count": null,
   "metadata": {},
   "outputs": [],
   "source": [
    "df_series_updated.loc[0:20, :]"
   ]
  },
  {
   "cell_type": "code",
   "execution_count": null,
   "metadata": {},
   "outputs": [],
   "source": []
  },
  {
   "cell_type": "markdown",
   "metadata": {},
   "source": [
    "Figure out why some data cannot be fetched"
   ]
  },
  {
   "cell_type": "code",
   "execution_count": null,
   "metadata": {},
   "outputs": [],
   "source": [
    "df_series.loc[0]"
   ]
  },
  {
   "cell_type": "code",
   "execution_count": null,
   "metadata": {},
   "outputs": [],
   "source": [
    "i_serie = 1\n",
    "\n",
    "logging.info('{}/{}: [{}|{}|{}|PID:{}|:{}]'.format(i_serie, len(df_series), *df_series.loc[i_serie,\n",
    "                ['Study Date', 'Series Time', 'Modality', 'Patient ID', 'Series Instance UID']]))\n",
    "query_ds = Dataset()\n",
    "# set all the parameters for filtering\n",
    "exclude_columns = ['Number of Series Related Instances', 'Instance Number']\n",
    "for col in df_series.columns:\n",
    "    if col in exclude_columns: continue\n",
    "    col_name = col.title().replace(' ', '').replace('Uid', 'UID')\n",
    "    value = df_series.loc[i_serie, col]\n",
    "    # avoid NaNs\n",
    "    if str(value) == 'nan': value = ''\n",
    "    logging.info('Setting \"{}\" (\"{}\") to \"{}\" (type: \"{}\")'.format(col, col_name, value, type(value)))\n",
    "    setattr(query_ds, col_name, value)\n",
    "\n",
    "# set the specific filtering parameters\n",
    "query_ds.QueryRetrieveLevel = 'IMAGE'\n",
    "query_ds.InstanceNumber = '1'\n",
    "# display the Dataset\n",
    "logging.info('Query Dataset:')\n",
    "for s in str(query_ds).split('\\n'): logging.info('    ' + s)\n",
    "\n",
    "# fetch the data (C-MOVE)\n",
    "to_fetch_param_names = ['ManufacturerModelName', 'InstanceNumber', 'ContentTime',\n",
    "                        'AcquisitionTime', 'ActualFrameDuration']\n",
    "df, datasets = get_data(config, query_ds, to_fetch_param_names)\n",
    "df"
   ]
  },
  {
   "cell_type": "code",
   "execution_count": null,
   "metadata": {},
   "outputs": [],
   "source": [
    "datasets"
   ]
  },
  {
   "cell_type": "markdown",
   "metadata": {},
   "source": [
    "Get (C-MOVE) a PT series first and last frame"
   ]
  },
  {
   "cell_type": "code",
   "execution_count": null,
   "metadata": {},
   "outputs": [],
   "source": [
    "# Create out identifier (query) dataset\n",
    "query_ds = Dataset()\n",
    "query_ds.QueryRetrieveLevel = 'IMAGE'\n",
    "query_ds.SeriesInstanceUID = '1.3.12.2.1107.5.6.1.2013.31330119100111184984100000023'\n",
    "query_ds.PatientID = '69168'\n",
    "query_ds.StudyDate  = '20191001'\n",
    "query_ds.Modality = 'PT'\n",
    "query_ds.InstanceNumber = ['1', '387']\n",
    "\n",
    "df = get_data(config, query_ds, ['PatientID', 'ManufacturerModelName', 'InstanceNumber', 'StudyTime',\n",
    "                                 'SeriesTime', 'ContentTime', 'AcquisitionTime'])\n",
    "df"
   ]
  },
  {
   "cell_type": "code",
   "execution_count": null,
   "metadata": {},
   "outputs": [],
   "source": [
    "# Create out identifier (query) dataset\n",
    "query_ds = Dataset()\n",
    "query_ds.QueryRetrieveLevel = 'IMAGE'\n",
    "query_ds.SeriesInstanceUID = '1.3.12.2.1107.5.1.4.10001.30000019100107233748400041397'\n",
    "query_ds.PatientID = '1084649'\n",
    "query_ds.StudyDate  = '20191001'\n",
    "query_ds.Modality = 'PT'\n",
    "\n",
    "query_ds.InstanceNumber = ['1', '1000', '2772']\n",
    "\n",
    "df = get_data(config, query_ds, ['PatientID', 'ManufacturerModelName', 'InstanceNumber', 'StudyTime',\n",
    "                                 'SeriesTime', 'ContentTime', 'AcquisitionTime'])\n",
    "df"
   ]
  },
  {
   "cell_type": "markdown",
   "metadata": {},
   "source": [
    "Get all the series corresponding to the query Dataset's filter [date = 2019-10-01, study time = between 8am and 9am]"
   ]
  },
  {
   "cell_type": "code",
   "execution_count": null,
   "metadata": {
    "scrolled": true
   },
   "outputs": [],
   "source": [
    "query_ds = Dataset()\n",
    "\n",
    "# set the filtering parameters\n",
    "query_ds.QueryRetrieveLevel = 'SERIES'\n",
    "query_ds.StudyDate  = '20191001'\n",
    "query_ds.SeriesDate = '20191001'\n",
    "query_ds.StudyTime  = '080000-090000'\n",
    "query_ds.SeriesTime = '080000-090000'\n",
    "\n",
    "# parameters to fetch\n",
    "query_ds.NumberOfSeriesRelatedInstances = ''\n",
    "query_ds.SeriesInstanceUID = ''\n",
    "query_ds.Modality = ''\n",
    "query_ds.PatientID = ''\n",
    "query_ds.StudyID = ''\n",
    "\n",
    "logging.info('Query Dataset:')\n",
    "for s in str(query_ds).split('\\n'): logging.info('    ' + s)\n",
    "\n",
    "df_series_all = find_data(config, query_ds)\n",
    "df_series_all"
   ]
  },
  {
   "cell_type": "markdown",
   "metadata": {},
   "source": [
    "Get a list of Series having more than a few frames"
   ]
  },
  {
   "cell_type": "code",
   "execution_count": null,
   "metadata": {},
   "outputs": [],
   "source": [
    "df_series = df_series_all[df_series_all['Number of Series Related Instances'].astype(int) > 2][0:3]\n",
    "df_series"
   ]
  },
  {
   "cell_type": "markdown",
   "metadata": {},
   "source": [
    "Get time differences by querying the ContentTime on the IMAGE level"
   ]
  },
  {
   "cell_type": "code",
   "execution_count": null,
   "metadata": {
    "scrolled": true
   },
   "outputs": [],
   "source": [
    "count_modality = df_series.groupby('Modality')['Modality'].count()\n",
    "logging.info('Number of series per modality: NM = {NM} | PT = {PT}'.format(**count_modality))\n",
    "n_instances_groupby_modality = df_series.groupby('Modality')['Number of Series Related Instances']\n",
    "logging.info('Number of Instances [min]:  NM = {NM:6.1f} | PT = {PT:6.1f}'.format(**n_instances_groupby_modality.min()))\n",
    "logging.info('Number of Instances [avg]:  NM = {NM:6.1f} | PT = {PT:6.1f}'.format(**n_instances_groupby_modality.mean()))\n",
    "logging.info('Number of Instances [med]:  NM = {NM:6.1f} | PT = {PT:6.1f}'.format(**n_instances_groupby_modality.median()))\n",
    "logging.info('Number of Instances [max]:  NM = {NM:6.1f} | PT = {PT:6.1f}'.format(**n_instances_groupby_modality.max()))\n"
   ]
  },
  {
   "cell_type": "code",
   "execution_count": null,
   "metadata": {},
   "outputs": [],
   "source": [
    "time_format = '%H%M%S'\n",
    "\n",
    "for i in df_series.index:\n",
    "    \n",
    "    series_UID = df_series.loc[i, 'Series Instance UID']\n",
    "    last_frame = df_series.loc[i, 'Number of Series Related Instances']\n",
    "    \n",
    "    logging.info('Fetching info for index {}: \"{}\"'.format(i, series_UID))\n",
    "    \n",
    "    query_ds = Dataset()\n",
    "    query_ds.QueryRetrieveLevel = 'IMAGE'\n",
    "    query_ds.InstanceNumber = ['1', last_frame]\n",
    "    query_ds.SeriesInstanceUID = series_UID\n",
    "    query_ds.ContentTime = ''\n",
    "    \n",
    "    df = retrieve_data(config, query_ds)\n",
    "    \n",
    "    start_time = dt.strptime(df.loc[0, 'Content Time'], time_format)\n",
    "    end_time = dt.strptime(df.loc[1, 'Content Time'], time_format)\n",
    "    delta_sec = (end_time - start_time).seconds\n",
    "\n",
    "    logging.info('Series total time: end [{:%H:%M:%S}] - [{:%H:%M:%S}] = {} seconds'.format(end_time, start_time, delta_sec))"
   ]
  },
  {
   "cell_type": "code",
   "execution_count": null,
   "metadata": {},
   "outputs": [],
   "source": [
    "df_series_pt = \\\n",
    "    df_series_all[\n",
    "        (df_series_all.Modality == 'PT')\n",
    "      & (df_series_all['Number of Series Related Instances'].astype(int) > 1)\n",
    "    ][0:10]\n",
    "ICD.display(df_series_pt)\n",
    "print(df_series_pt.loc[556, 'Series Instance UID'])\n",
    "print(df_series_pt.loc[556, 'Patient ID'])"
   ]
  },
  {
   "cell_type": "code",
   "execution_count": null,
   "metadata": {},
   "outputs": [],
   "source": [
    "time_format = '%H%M%S'\n",
    "\n",
    "for i in df_series_pt.index:\n",
    "    \n",
    "    series_UID = df_series_pt.loc[i, 'Series Instance UID']\n",
    "    last_frame = df_series_pt.loc[i, 'Number of Series Related Instances']\n",
    "    mid_frame = str(int(int(last_frame) / 2))\n",
    "    \n",
    "    logging.info('Fetching info for index {}: \"{}\"'.format(i, series_UID))\n",
    "    \n",
    "    query_ds = Dataset()\n",
    "    query_ds.QueryRetrieveLevel = 'IMAGE'\n",
    "    query_ds.InstanceNumber = ['1', mid_frame, last_frame]\n",
    "    query_ds.SeriesInstanceUID = series_UID\n",
    "    query_ds.StudyTime = ''\n",
    "    query_ds.SeriesTime = ''\n",
    "    query_ds.ContentTime = ''\n",
    "    query_ds.NumberOfSeriesRelatedInstances = ''\n",
    "    \n",
    "    df = retrieve_data(config, query_ds)\n",
    "    if len(df) > 0:\n",
    "        ICD.display(df)"
   ]
  },
  {
   "cell_type": "code",
   "execution_count": null,
   "metadata": {},
   "outputs": [],
   "source": [
    "df.loc[0, 'Content Time'].split('.')[0]"
   ]
  },
  {
   "cell_type": "markdown",
   "metadata": {},
   "source": [
    "Get all PT images with InstanceNumber 1 for a specific day (20191001)"
   ]
  },
  {
   "cell_type": "code",
   "execution_count": null,
   "metadata": {},
   "outputs": [],
   "source": [
    "query_ds = Dataset()\n",
    "\n",
    "# set the filtering parameters\n",
    "query_ds.QueryRetrieveLevel = 'IMAGE'\n",
    "query_ds.StudyDate  = '20191001'\n",
    "query_ds.InstanceNumber = '1'\n",
    "query_ds.Modality = 'PT'\n",
    "\n",
    "# parameters to fetch\n",
    "query_ds.StudyTime = ''\n",
    "query_ds.SeriesTime = ''\n",
    "query_ds.ContentTime = ''\n",
    "query_ds.NumberOfSeriesRelatedInstances = ''\n",
    "query_ds.SeriesInstanceUID = ''\n",
    "\n",
    "logging.info('Query Dataset:')\n",
    "for s in str(query_ds).split('\\n'): logging.info('    ' + s)\n",
    "\n",
    "df_PT_IN1_20191001_all = retrieve_data(config, query_ds)\n",
    "df_PT_IN1_20191001_all"
   ]
  },
  {
   "cell_type": "markdown",
   "metadata": {},
   "source": [
    "Get the content time of the last frame"
   ]
  },
  {
   "cell_type": "code",
   "execution_count": null,
   "metadata": {},
   "outputs": [],
   "source": [
    "df_PT_IN1_20191001_copy = df_PT_IN1_20191001_all.copy()\n",
    "for i in df_PT_IN1_20191001_copy.index:\n",
    "    \n",
    "    series_UID = df_PT_IN1_20191001_copy.loc[i, 'Series Instance UID']\n",
    "    last_frame = df_PT_IN1_20191001_copy.loc[i, 'Number of Series Related Instances']\n",
    "    mid_frame = str(int(int(last_frame) / 2))\n",
    "    \n",
    "    logging.info('Fetching info for index {}: \"{}\"'.format(i, series_UID))\n",
    "    \n",
    "    query_ds = Dataset()\n",
    "    query_ds.QueryRetrieveLevel = 'IMAGE'\n",
    "    query_ds.InstanceNumber = last_frame\n",
    "    query_ds.SeriesInstanceUID = series_UID\n",
    "    query_ds.ContentTime = ''\n",
    "    \n",
    "    df = retrieve_data(config, query_ds)\n",
    "    if len(df) > 0:\n",
    "        df_PT_IN1_20191001_copy.loc[i, 'Last Content Time'] = df.loc[0, 'Content Time']\n",
    "    \n",
    "    query_ds = Dataset()\n",
    "    query_ds.QueryRetrieveLevel = 'IMAGE'\n",
    "    query_ds.InstanceNumber = mid_frame\n",
    "    query_ds.SeriesInstanceUID = series_UID\n",
    "    query_ds.ContentTime = ''\n",
    "    \n",
    "    df = retrieve_data(config, query_ds)\n",
    "    if len(df) > 0:\n",
    "        df_PT_IN1_20191001_copy.loc[i, 'Mid Content Time'] = df.loc[0, 'Content Time']"
   ]
  },
  {
   "cell_type": "code",
   "execution_count": null,
   "metadata": {},
   "outputs": [],
   "source": [
    "df_PT_IN1_20191001_copy[['Content Time', 'Mid Content Time', 'Last Content Time', 'Instance Number', 'Number of Series Related Instances']]"
   ]
  },
  {
   "cell_type": "code",
   "execution_count": null,
   "metadata": {},
   "outputs": [],
   "source": [
    "s = df_PT_IN1_20191001_copy.loc[0:39, 'Content Time'].apply(lambda s: s.split('.')[1]).astype(int)\n",
    "e = df_PT_IN1_20191001_copy.loc[0:39, 'Last Content Time'].apply(lambda s: s.split('.')[1]).astype(int)\n",
    "n = df_PT_IN1_20191001_copy.loc[0:39, 'Number of Series Related Instances'].astype(int)\n",
    "d = e - s\n",
    "import pandas as pd\n",
    "a = pd.DataFrame([s, e, n, d, d/n]).transpose()\n",
    "a.columns = ['s', 'e', 'n', 'd', 'd/n']\n",
    "a[a['n'] > 400]"
   ]
  },
  {
   "cell_type": "markdown",
   "metadata": {},
   "source": [
    "Try to use MOVE instead of FIND"
   ]
  },
  {
   "cell_type": "code",
   "execution_count": null,
   "metadata": {},
   "outputs": [],
   "source": [
    "df_series.loc[0]['Series Instance UID']"
   ]
  },
  {
   "cell_type": "code",
   "execution_count": null,
   "metadata": {},
   "outputs": [],
   "source": [
    "ds = Dataset()\n",
    "ds.QueryRetrieveLevel = 'IMAGE'\n",
    "ds.SeriesInstanceUID = '1.2.840.113619.2.80.3834766814.478.1569931317.104.4.1'\n",
    "ds.StudyInstanceUID = '1.2.826.0.1.3680043.2.146.2.20.2560235.1900228608.0'\n",
    "ds.PatientID = '2560235'\n",
    "ds.StudyID = '40464'\n",
    "ds.StudyDate  = '20191001'\n",
    "ds.Modality = 'CT'\n",
    "ds.InstanceNumber = '1'\n",
    "\n",
    "df = retrieve_data(config, ds)\n",
    "df"
   ]
  },
  {
   "cell_type": "code",
   "execution_count": null,
   "metadata": {},
   "outputs": [],
   "source": [
    "from pydicom.dataset import Dataset\n",
    "\n",
    "from pynetdicom import AE, evt, StoragePresentationContexts\n",
    "from pynetdicom.sop_class import PatientRootQueryRetrieveInformationModelMove\n",
    "\n",
    "datasets = []\n",
    "def handle_store(event):\n",
    "    \"\"\"Handle a C-STORE service request\"\"\"\n",
    "    print('HANDLE STORE')\n",
    "    datasets.append(event.dataset)\n",
    "    # Ignore the request and return Success\n",
    "    return 0x0000\n",
    "\n",
    "handlers = [(evt.EVT_C_STORE, handle_store)]\n",
    "\n",
    "# Initialise the Application Entity\n",
    "ae = AE(ae_title = config['PACS']['ae_title'])\n",
    "\n",
    "# Add a requested presentation context\n",
    "ae.add_requested_context(PatientRootQueryRetrieveInformationModelMove)\n",
    "\n",
    "# Add the Storage SCP's supported presentation contexts\n",
    "ae.supported_contexts = StoragePresentationContexts\n",
    "\n",
    "# Start our Storage SCP in non-blocking mode, listening on port 11120\n",
    "ae.ae_title = config['PACS']['ae_title']\n",
    "scp = ae.start_server((config['PACS']['local_host'], config['PACS'].getint('local_port')), block=False, evt_handlers=handlers)\n",
    "\n",
    "# Create out identifier (query) dataset\n",
    "ds = Dataset()\n",
    "ds.QueryRetrieveLevel = 'IMAGE'\n",
    "ds.SeriesInstanceUID = '1.2.840.113619.2.80.3834766814.478.1569931317.104.4.1'\n",
    "ds.StudyInstanceUID = '1.2.826.0.1.3680043.2.146.2.20.2560235.1900228608.0'\n",
    "ds.PatientID = '2560235'\n",
    "ds.StudyID = '40464'\n",
    "ds.StudyDate  = '20191001'\n",
    "ds.Modality = 'CT'\n",
    "ds.InstanceNumber = ['1', '100', '200', '289', '298', '300']\n",
    "\n",
    "# Associate with peer AE at IP 127.0.0.1 and port 11112\n",
    "assoc = ae.associate(config['PACS']['host'], config['PACS'].getint('port'), ae_title=config['PACS']['ae_called_title'])\n",
    "\n",
    "if assoc.is_established:\n",
    "    # Use the C-MOVE service to send the identifier\n",
    "    responses = assoc.send_c_move(ds, config['PACS']['ae_title'], PatientRootQueryRetrieveInformationModelMove)\n",
    "\n",
    "    for (status, identifier) in responses:\n",
    "        if status:\n",
    "            print('C-MOVE query status: 0x{0:04x}'.format(status.Status))\n",
    "\n",
    "            # If the status is 'Pending' then `identifier` is the C-MOVE response\n",
    "            if status.Status in (0xFF00, 0xFF01):\n",
    "                print(identifier)\n",
    "        else:\n",
    "            print('Connection timed out, was aborted or received invalid response')\n",
    "\n",
    "    # Release the association\n",
    "    assoc.release()\n",
    "else:\n",
    "    print('Association rejected, aborted or never connected')\n",
    "\n",
    "# Stop our Storage SCP\n",
    "scp.shutdown()\n"
   ]
  },
  {
   "cell_type": "code",
   "execution_count": null,
   "metadata": {},
   "outputs": [],
   "source": [
    "[ds.ContentTime for ds in datasets]"
   ]
  },
  {
   "cell_type": "code",
   "execution_count": null,
   "metadata": {},
   "outputs": [],
   "source": [
    "datasets[0].ManufacturerModelName"
   ]
  },
  {
   "cell_type": "code",
   "execution_count": null,
   "metadata": {},
   "outputs": [],
   "source": [
    "# Create out identifier (query) dataset\n",
    "query_ds = Dataset()\n",
    "query_ds.QueryRetrieveLevel = 'IMAGE'\n",
    "query_ds.SeriesInstanceUID = '1.2.840.113619.2.80.3834766814.478.1569931317.104.4.1'\n",
    "query_ds.StudyInstanceUID = '1.2.826.0.1.3680043.2.146.2.20.2560235.1900228608.0'\n",
    "query_ds.PatientID = '2560235'\n",
    "query_ds.StudyID = '40464'\n",
    "query_ds.StudyDate  = '20191001'\n",
    "query_ds.Modality = 'CT'\n",
    "query_ds.InstanceNumber = ['1', '100', '131', '132']\n",
    "\n",
    "df = find_data(config, query_ds)\n",
    "df"
   ]
  },
  {
   "cell_type": "code",
   "execution_count": null,
   "metadata": {},
   "outputs": [],
   "source": []
  },
  {
   "cell_type": "code",
   "execution_count": null,
   "metadata": {},
   "outputs": [],
   "source": []
  }
 ],
 "metadata": {
  "kernelspec": {
   "display_name": "Python 3",
   "language": "python",
   "name": "python3"
  },
  "language_info": {
   "codemirror_mode": {
    "name": "ipython",
    "version": 3
   },
   "file_extension": ".py",
   "mimetype": "text/x-python",
   "name": "python",
   "nbconvert_exporter": "python",
   "pygments_lexer": "ipython3",
   "version": "3.7.4"
  }
 },
 "nbformat": 4,
 "nbformat_minor": 2
}
