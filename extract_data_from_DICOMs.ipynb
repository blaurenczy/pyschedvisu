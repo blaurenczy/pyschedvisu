{
 "cells": [
  {
   "cell_type": "code",
   "execution_count": null,
   "metadata": {},
   "outputs": [],
   "source": [
    "import logging\n",
    "import pydicom\n",
    "import os\n",
    "import pandas as pd\n",
    "\n",
    "logger = logging.getLogger()\n",
    "logger.setLevel(logging.INFO)"
   ]
  },
  {
   "cell_type": "code",
   "execution_count": null,
   "metadata": {},
   "outputs": [],
   "source": [
    "column_names = ['StudyDate', 'StudyTime', 'SeriesDate', 'Modality', 'StudyDescription',\n",
    "                'SeriesDescription', 'PatientID', 'StudyID', 'StudyInstanceUID', 'SeriesInstanceUID', 'NumberOfSlices',\n",
    "                'Private_07a1_1002', 'SeriesNumber', 'PerformedProcedureStepDescription',\n",
    "                'AcquisitionTime', 'ActualFrameDuration', 'ContentTime', 'InstitutionName', 'Manufacturer',\n",
    "                'ManufacturerModelName']\n",
    "df = pd.DataFrame(columns=column_names)"
   ]
  },
  {
   "cell_type": "code",
   "execution_count": null,
   "metadata": {},
   "outputs": [],
   "source": [
    "root_folder = 'C:\\\\Users\\\\blaurenc\\\\Documents\\\\PACS_data'\n",
    "month_folders = os.listdir(root_folder)\n",
    "i_row = 0\n",
    "for month_folder in month_folders:\n",
    "    month_folder_path = root_folder + '/' + month_folder\n",
    "    day_folders = os.listdir(month_folder_path)\n",
    "    for day_folder in day_folders:\n",
    "        day_folder_path = root_folder + '/' + month_folder + '/' + day_folder\n",
    "        DICOM_files = os.listdir(day_folder_path)\n",
    "        for i_file in range(len(DICOM_files)):\n",
    "            DICOM_file_path = day_folder_path + '/' + DICOM_files[i_file]\n",
    "            try:\n",
    "                dicom_info = pydicom.dcmread(DICOM_file_path)\n",
    "            except:\n",
    "                logging.error(f'Error reading DICOM file at {DICOM_file_path}.')\n",
    "                continue\n",
    "            for i_col in range(len(column_names)):\n",
    "                col_name = column_names[i_col]\n",
    "                dicom_info_element = dicom_info.get(col_name)\n",
    "                if dicom_info_element is not None:\n",
    "                    df.loc[i_row, col_name] = dicom_info_element\n",
    "            i_row += 1\n",
    "            "
   ]
  },
  {
   "cell_type": "code",
   "execution_count": null,
   "metadata": {},
   "outputs": [],
   "source": [
    "df"
   ]
  },
  {
   "cell_type": "code",
   "execution_count": null,
   "metadata": {},
   "outputs": [],
   "source": [
    "df.loc[0].StudyInstanceUID"
   ]
  },
  {
   "cell_type": "code",
   "execution_count": null,
   "metadata": {},
   "outputs": [],
   "source": [
    "df.loc[0].SeriesInstanceUID"
   ]
  },
  {
   "cell_type": "code",
   "execution_count": null,
   "metadata": {},
   "outputs": [],
   "source": [
    "df.loc[0].StudyTime"
   ]
  },
  {
   "cell_type": "code",
   "execution_count": null,
   "metadata": {},
   "outputs": [],
   "source": [
    "dicom_info"
   ]
  },
  {
   "cell_type": "code",
   "execution_count": null,
   "metadata": {},
   "outputs": [],
   "source": [
    "dicom_info[[0x0040, 0xa730]][0]"
   ]
  },
  {
   "cell_type": "code",
   "execution_count": null,
   "metadata": {},
   "outputs": [],
   "source": [
    "file_path = 'C:\\\\Users\\\\blaurenc\\\\Documents\\\\PACS_data\\\\2018_06\\\\20180622\\\\CT.1.3.12.2.1107.5.1.4.10001.30000018062209272632900000167'\n",
    "dicom_info = pydicom.dcmread(file_path)"
   ]
  },
  {
   "cell_type": "code",
   "execution_count": null,
   "metadata": {},
   "outputs": [],
   "source": [
    "dicom_info"
   ]
  },
  {
   "cell_type": "code",
   "execution_count": null,
   "metadata": {},
   "outputs": [],
   "source": []
  }
 ],
 "metadata": {
  "kernelspec": {
   "display_name": "Python 3",
   "language": "python",
   "name": "python3"
  },
  "language_info": {
   "codemirror_mode": {
    "name": "ipython",
    "version": 3
   },
   "file_extension": ".py",
   "mimetype": "text/x-python",
   "name": "python",
   "nbconvert_exporter": "python",
   "pygments_lexer": "ipython3",
   "version": "3.7.4"
  }
 },
 "nbformat": 4,
 "nbformat_minor": 2
}
